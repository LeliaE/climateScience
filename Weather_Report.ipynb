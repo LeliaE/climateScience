{
  "cells": [
    {
      "cell_type": "markdown",
      "metadata": {
        "id": "SBuv1-0tne4Y"
      },
      "source": [
        "# Mission"
      ]
    },
    {
      "cell_type": "markdown",
      "metadata": {
        "id": "NlpJllYgne4a"
      },
      "source": [
        "Our dataset contains daily observations of station-based measurements worldwide.\n",
        "\n",
        "We have chosen to look into stations in Italy, which has the oldest records, and Canada, which also has entries dating back to 1840, to identify contrasts. By looking into the precipitation data, we aim to gain insights in climate change, and understand the fluctuations.\n",
        "\n",
        "The data can is located in an AWS bucket. An overview of the bucket can be found here: http://noaa-ghcn-pds.s3.amazonaws.com/.\n",
        "\n",
        "It is an archive containing data from 1763 to 2022 of \"GHCN-Daily\", which is a dataset produced by NOAA’s National Centers for Environmental Information (NCEI) that is updated daily and contains daily weather observations for numerous countries worldwide. The files are in a .csv format.\n",
        "\n",
        "To check the README of the dataset, you can check out https://docs.opendata.aws/noaa-ghcn-pds/readme.html"
      ]
    },
    {
      "cell_type": "markdown",
      "metadata": {
        "id": "Hx73p63Qne4b"
      },
      "source": [
        "__________"
      ]
    },
    {
      "cell_type": "markdown",
      "metadata": {
        "id": "5Qq6udIAne4c"
      },
      "source": [
        "# Imports"
      ]
    },
    {
      "cell_type": "code",
      "source": [
        "!pip install boto3"
      ],
      "metadata": {
        "colab": {
          "base_uri": "https://localhost:8080/"
        },
        "id": "rfEedpKenkZh",
        "outputId": "772d8c6e-2df1-42f7-8374-5b6cd721c70c"
      },
      "execution_count": 1,
      "outputs": [
        {
          "output_type": "stream",
          "name": "stdout",
          "text": [
            "Collecting boto3\n",
            "  Downloading boto3-1.34.49-py3-none-any.whl (139 kB)\n",
            "\u001b[2K     \u001b[90m━━━━━━━━━━━━━━━━━━━━━━━━━━━━━━━━━━━━━━━━\u001b[0m \u001b[32m139.3/139.3 kB\u001b[0m \u001b[31m2.1 MB/s\u001b[0m eta \u001b[36m0:00:00\u001b[0m\n",
            "\u001b[?25hCollecting botocore<1.35.0,>=1.34.49 (from boto3)\n",
            "  Downloading botocore-1.34.49-py3-none-any.whl (12.0 MB)\n",
            "\u001b[2K     \u001b[90m━━━━━━━━━━━━━━━━━━━━━━━━━━━━━━━━━━━━━━━━\u001b[0m \u001b[32m12.0/12.0 MB\u001b[0m \u001b[31m21.6 MB/s\u001b[0m eta \u001b[36m0:00:00\u001b[0m\n",
            "\u001b[?25hCollecting jmespath<2.0.0,>=0.7.1 (from boto3)\n",
            "  Downloading jmespath-1.0.1-py3-none-any.whl (20 kB)\n",
            "Collecting s3transfer<0.11.0,>=0.10.0 (from boto3)\n",
            "  Downloading s3transfer-0.10.0-py3-none-any.whl (82 kB)\n",
            "\u001b[2K     \u001b[90m━━━━━━━━━━━━━━━━━━━━━━━━━━━━━━━━━━━━━━━━\u001b[0m \u001b[32m82.1/82.1 kB\u001b[0m \u001b[31m9.2 MB/s\u001b[0m eta \u001b[36m0:00:00\u001b[0m\n",
            "\u001b[?25hRequirement already satisfied: python-dateutil<3.0.0,>=2.1 in /usr/local/lib/python3.10/dist-packages (from botocore<1.35.0,>=1.34.49->boto3) (2.8.2)\n",
            "Requirement already satisfied: urllib3<2.1,>=1.25.4 in /usr/local/lib/python3.10/dist-packages (from botocore<1.35.0,>=1.34.49->boto3) (2.0.7)\n",
            "Requirement already satisfied: six>=1.5 in /usr/local/lib/python3.10/dist-packages (from python-dateutil<3.0.0,>=2.1->botocore<1.35.0,>=1.34.49->boto3) (1.16.0)\n",
            "Installing collected packages: jmespath, botocore, s3transfer, boto3\n",
            "Successfully installed boto3-1.34.49 botocore-1.34.49 jmespath-1.0.1 s3transfer-0.10.0\n"
          ]
        }
      ]
    },
    {
      "cell_type": "code",
      "execution_count": 2,
      "metadata": {
        "id": "qsEWMAUqne4c"
      },
      "outputs": [],
      "source": [
        "import os\n",
        "import glob\n",
        "import pandas as pd\n",
        "import gc\n",
        "\n",
        "# AWS Bucket interaction\n",
        "import boto3\n",
        "from botocore import UNSIGNED\n",
        "from botocore.config import Config\n",
        "\n",
        "# Visualization\n",
        "import matplotlib.pyplot as plt"
      ]
    },
    {
      "cell_type": "markdown",
      "metadata": {
        "id": "q0ze3Xxsne4d"
      },
      "source": [
        "___________"
      ]
    },
    {
      "cell_type": "markdown",
      "metadata": {
        "id": "u07_m8wine4d"
      },
      "source": [
        "# Data Download"
      ]
    },
    {
      "cell_type": "markdown",
      "metadata": {
        "id": "nwL0TVQ2ne4d"
      },
      "source": [
        "This part of the notebook connects to the bucket, checks if the desired files are present in the local path, and downloads them if they are not."
      ]
    },
    {
      "cell_type": "markdown",
      "metadata": {
        "id": "eeweUVCQne4d"
      },
      "source": [
        "### Setup Bucket connection"
      ]
    },
    {
      "cell_type": "code",
      "execution_count": 3,
      "metadata": {
        "id": "l3AUAGcAne4d"
      },
      "outputs": [],
      "source": [
        "s3_client = boto3.client('s3', config=Config(signature_version=UNSIGNED))\n",
        "s3_resource = boto3.resource(\"s3\", config=Config(signature_version=UNSIGNED))\n",
        "bucket = s3_resource.Bucket('noaa-ghcn-pds')"
      ]
    },
    {
      "cell_type": "markdown",
      "source": [
        "# General Data EDA"
      ],
      "metadata": {
        "id": "l36av-vKn849"
      }
    },
    {
      "cell_type": "markdown",
      "source": [
        "While we possess extensive meteorological data spanning the globe and multiple centuries, a limitation of our dataset is the inconsistent recording practices employed by various weather stations. This factor can introduce ambiguity when attempting to discern long-term patterns in climate change. To overcome this obstacle and obtain a clearer picture of shifting weather trends, we chose to narrow our focus onto two distinct, preferably far apart from each other, countries, thereby minimizing the impact of extraneous factors such as ocean currents or topographical anomalies that might skew our analysis.\n",
        "\n",
        "To determine which two countries would be most suitable for comparison, we initiated an exploratory data analysis (EDA) of the entire dataset."
      ],
      "metadata": {
        "id": "-eNa88WapGMZ"
      }
    },
    {
      "cell_type": "markdown",
      "source": [
        "#### Getting all datafiles per year"
      ],
      "metadata": {
        "id": "hSVsNPElp-GJ"
      }
    },
    {
      "cell_type": "code",
      "execution_count": 4,
      "metadata": {
        "id": "SiuCLQqIne4e"
      },
      "outputs": [],
      "source": [
        "# Change local path depending on where data will be downloaded to\n",
        "data_root = 'LOCAL_PATH'"
      ]
    },
    {
      "cell_type": "code",
      "execution_count": 5,
      "metadata": {
        "id": "IFVEqdvYne4g"
      },
      "outputs": [],
      "source": [
        "column_names = ['ID', 'DATE', 'ELEMENT', 'DATA VALUE', 'M-FLAG', 'Q-FLAG', 'S-FLAG', 'OBS-TIME']"
      ]
    },
    {
      "cell_type": "code",
      "execution_count": 6,
      "metadata": {
        "colab": {
          "base_uri": "https://localhost:8080/"
        },
        "id": "34OSRGQl2AVd",
        "outputId": "ad2bab4c-7447-44d6-a03d-cfcabca40592"
      },
      "outputs": [
        {
          "output_type": "stream",
          "name": "stdout",
          "text": [
            "All 260 filenames downloaded.\n"
          ]
        }
      ],
      "source": [
        "years = []\n",
        "for obj in bucket.objects.all():\n",
        "    if 'by_station' not in obj.key:\n",
        "        _, filename = os.path.split(obj.key)\n",
        "        local_path = data_root + filename\n",
        "        if not os.path.isfile(local_path):\n",
        "            #print(filename, ' downloaded')\n",
        "            years.append(filename.split('.')[0])\n",
        "            s3_client.download_file('noaa-ghcn-pds', obj.key, local_path)\n",
        "    else:\n",
        "        break\n",
        "\n",
        "print(\"All {} filenames downloaded.\".format(len(years)))"
      ]
    },
    {
      "cell_type": "code",
      "execution_count": 7,
      "metadata": {
        "colab": {
          "base_uri": "https://localhost:8080/"
        },
        "id": "25iw7HTNT-cu",
        "outputId": "b6664a58-7d35-4e2f-dee9-1d42ebb5d227"
      },
      "outputs": [
        {
          "output_type": "stream",
          "name": "stdout",
          "text": [
            "First year recorded:  1763\n",
            "Last year recorded:  2022\n"
          ]
        }
      ],
      "source": [
        "list(map(int, years))\n",
        "print('First year recorded: ', min(years))\n",
        "print('Last year recorded: ', max(years))"
      ]
    },
    {
      "cell_type": "code",
      "execution_count": 8,
      "metadata": {
        "id": "JLeEzDn52HYz"
      },
      "outputs": [],
      "source": [
        "def load_df(year):\n",
        "  \"\"\"\n",
        "  Load the data from the specified year into a pandas DataFrame.\n",
        "  Extract the country and station identifiers from the 'ID' column for easier analysis.\n",
        "  Transform the 'DATE' column to datetime format for easier analysis.\n",
        "\n",
        "  year : the respective year-long data recordings to be transformed into a dataframe\n",
        "  \"\"\"\n",
        "  df = pd.read_csv(data_root + str(year) + '.csv.gz', header = 0, names = column_names)\n",
        "\n",
        "  df['COUNTRY'] = df['ID'].str[:2]\n",
        "  df['STATION'] = df['ID'].str[2:]\n",
        "  df['YEAR'] = df['DATE'] // 10000\n",
        "\n",
        "  return df\n",
        "\n",
        "def load_df_by_station(station):\n",
        "  \"\"\"\n",
        "  Load only data corresponding to a specific station into a pandas DataFrame.\n",
        "  station: the desired station\n",
        "  \"\"\"\n",
        "  df = pd.read_csv(data_root + station + '.csv.gz', header = 0, names = column_names)\n",
        "  df['STATION'] = df['ID'].str[2:]\n",
        "  df['YEAR'] = df['DATE'] // 10000\n",
        "\n",
        "  return df\n",
        "\n",
        "def load_df_part(year, column_index, column):\n",
        "  \"\"\"\n",
        "  Load only part from the specified year into a pandas DataFrame.\n",
        "  year : the respective year-long data recordings to be transformed into a dataframe\n",
        "  column: the desired columns\n",
        "  \"\"\"\n",
        "  df = pd.read_csv(data_root + str(year) + '.csv.gz', header = 0, usecols=[column_index], names = column)\n",
        "\n",
        "  return df"
      ]
    },
    {
      "cell_type": "markdown",
      "source": [
        "#### Let's see a test dataframe"
      ],
      "metadata": {
        "id": "70pVhZwKs6aQ"
      }
    },
    {
      "cell_type": "code",
      "source": [
        "gc.collect()"
      ],
      "metadata": {
        "colab": {
          "base_uri": "https://localhost:8080/"
        },
        "id": "NqddmDytEzVy",
        "outputId": "54a26653-cc32-48a6-fb98-3e84e144c5e1"
      },
      "execution_count": 9,
      "outputs": [
        {
          "output_type": "execute_result",
          "data": {
            "text/plain": [
              "16360"
            ]
          },
          "metadata": {},
          "execution_count": 9
        }
      ]
    },
    {
      "cell_type": "code",
      "source": [
        "df_1989 = load_df(1989)\n",
        "df_1989.head()"
      ],
      "metadata": {
        "colab": {
          "base_uri": "https://localhost:8080/",
          "height": 206
        },
        "id": "9EWRKkfms9iq",
        "outputId": "880d2fed-1169-4e36-ac69-022287e60308"
      },
      "execution_count": 10,
      "outputs": [
        {
          "output_type": "execute_result",
          "data": {
            "text/plain": [
              "            ID      DATE ELEMENT  DATA VALUE M-FLAG Q-FLAG S-FLAG  OBS-TIME  \\\n",
              "0  AE000041196  19890101    TAVG         187      H    NaN      S       NaN   \n",
              "1  AEM00041194  19890101    TMAX         235    NaN    NaN      S       NaN   \n",
              "2  AEM00041194  19890101    TAVG         212      H    NaN      S       NaN   \n",
              "3  AEM00041217  19890101    TMAX         233    NaN    NaN      S       NaN   \n",
              "4  AEM00041217  19890101    TMIN         147    NaN    NaN      S       NaN   \n",
              "\n",
              "  COUNTRY    STATION  YEAR  \n",
              "0      AE  000041196  1989  \n",
              "1      AE  M00041194  1989  \n",
              "2      AE  M00041194  1989  \n",
              "3      AE  M00041217  1989  \n",
              "4      AE  M00041217  1989  "
            ],
            "text/html": [
              "\n",
              "  <div id=\"df-0ba32557-9075-4c6c-b884-e6a5029ad881\" class=\"colab-df-container\">\n",
              "    <div>\n",
              "<style scoped>\n",
              "    .dataframe tbody tr th:only-of-type {\n",
              "        vertical-align: middle;\n",
              "    }\n",
              "\n",
              "    .dataframe tbody tr th {\n",
              "        vertical-align: top;\n",
              "    }\n",
              "\n",
              "    .dataframe thead th {\n",
              "        text-align: right;\n",
              "    }\n",
              "</style>\n",
              "<table border=\"1\" class=\"dataframe\">\n",
              "  <thead>\n",
              "    <tr style=\"text-align: right;\">\n",
              "      <th></th>\n",
              "      <th>ID</th>\n",
              "      <th>DATE</th>\n",
              "      <th>ELEMENT</th>\n",
              "      <th>DATA VALUE</th>\n",
              "      <th>M-FLAG</th>\n",
              "      <th>Q-FLAG</th>\n",
              "      <th>S-FLAG</th>\n",
              "      <th>OBS-TIME</th>\n",
              "      <th>COUNTRY</th>\n",
              "      <th>STATION</th>\n",
              "      <th>YEAR</th>\n",
              "    </tr>\n",
              "  </thead>\n",
              "  <tbody>\n",
              "    <tr>\n",
              "      <th>0</th>\n",
              "      <td>AE000041196</td>\n",
              "      <td>19890101</td>\n",
              "      <td>TAVG</td>\n",
              "      <td>187</td>\n",
              "      <td>H</td>\n",
              "      <td>NaN</td>\n",
              "      <td>S</td>\n",
              "      <td>NaN</td>\n",
              "      <td>AE</td>\n",
              "      <td>000041196</td>\n",
              "      <td>1989</td>\n",
              "    </tr>\n",
              "    <tr>\n",
              "      <th>1</th>\n",
              "      <td>AEM00041194</td>\n",
              "      <td>19890101</td>\n",
              "      <td>TMAX</td>\n",
              "      <td>235</td>\n",
              "      <td>NaN</td>\n",
              "      <td>NaN</td>\n",
              "      <td>S</td>\n",
              "      <td>NaN</td>\n",
              "      <td>AE</td>\n",
              "      <td>M00041194</td>\n",
              "      <td>1989</td>\n",
              "    </tr>\n",
              "    <tr>\n",
              "      <th>2</th>\n",
              "      <td>AEM00041194</td>\n",
              "      <td>19890101</td>\n",
              "      <td>TAVG</td>\n",
              "      <td>212</td>\n",
              "      <td>H</td>\n",
              "      <td>NaN</td>\n",
              "      <td>S</td>\n",
              "      <td>NaN</td>\n",
              "      <td>AE</td>\n",
              "      <td>M00041194</td>\n",
              "      <td>1989</td>\n",
              "    </tr>\n",
              "    <tr>\n",
              "      <th>3</th>\n",
              "      <td>AEM00041217</td>\n",
              "      <td>19890101</td>\n",
              "      <td>TMAX</td>\n",
              "      <td>233</td>\n",
              "      <td>NaN</td>\n",
              "      <td>NaN</td>\n",
              "      <td>S</td>\n",
              "      <td>NaN</td>\n",
              "      <td>AE</td>\n",
              "      <td>M00041217</td>\n",
              "      <td>1989</td>\n",
              "    </tr>\n",
              "    <tr>\n",
              "      <th>4</th>\n",
              "      <td>AEM00041217</td>\n",
              "      <td>19890101</td>\n",
              "      <td>TMIN</td>\n",
              "      <td>147</td>\n",
              "      <td>NaN</td>\n",
              "      <td>NaN</td>\n",
              "      <td>S</td>\n",
              "      <td>NaN</td>\n",
              "      <td>AE</td>\n",
              "      <td>M00041217</td>\n",
              "      <td>1989</td>\n",
              "    </tr>\n",
              "  </tbody>\n",
              "</table>\n",
              "</div>\n",
              "    <div class=\"colab-df-buttons\">\n",
              "\n",
              "  <div class=\"colab-df-container\">\n",
              "    <button class=\"colab-df-convert\" onclick=\"convertToInteractive('df-0ba32557-9075-4c6c-b884-e6a5029ad881')\"\n",
              "            title=\"Convert this dataframe to an interactive table.\"\n",
              "            style=\"display:none;\">\n",
              "\n",
              "  <svg xmlns=\"http://www.w3.org/2000/svg\" height=\"24px\" viewBox=\"0 -960 960 960\">\n",
              "    <path d=\"M120-120v-720h720v720H120Zm60-500h600v-160H180v160Zm220 220h160v-160H400v160Zm0 220h160v-160H400v160ZM180-400h160v-160H180v160Zm440 0h160v-160H620v160ZM180-180h160v-160H180v160Zm440 0h160v-160H620v160Z\"/>\n",
              "  </svg>\n",
              "    </button>\n",
              "\n",
              "  <style>\n",
              "    .colab-df-container {\n",
              "      display:flex;\n",
              "      gap: 12px;\n",
              "    }\n",
              "\n",
              "    .colab-df-convert {\n",
              "      background-color: #E8F0FE;\n",
              "      border: none;\n",
              "      border-radius: 50%;\n",
              "      cursor: pointer;\n",
              "      display: none;\n",
              "      fill: #1967D2;\n",
              "      height: 32px;\n",
              "      padding: 0 0 0 0;\n",
              "      width: 32px;\n",
              "    }\n",
              "\n",
              "    .colab-df-convert:hover {\n",
              "      background-color: #E2EBFA;\n",
              "      box-shadow: 0px 1px 2px rgba(60, 64, 67, 0.3), 0px 1px 3px 1px rgba(60, 64, 67, 0.15);\n",
              "      fill: #174EA6;\n",
              "    }\n",
              "\n",
              "    .colab-df-buttons div {\n",
              "      margin-bottom: 4px;\n",
              "    }\n",
              "\n",
              "    [theme=dark] .colab-df-convert {\n",
              "      background-color: #3B4455;\n",
              "      fill: #D2E3FC;\n",
              "    }\n",
              "\n",
              "    [theme=dark] .colab-df-convert:hover {\n",
              "      background-color: #434B5C;\n",
              "      box-shadow: 0px 1px 3px 1px rgba(0, 0, 0, 0.15);\n",
              "      filter: drop-shadow(0px 1px 2px rgba(0, 0, 0, 0.3));\n",
              "      fill: #FFFFFF;\n",
              "    }\n",
              "  </style>\n",
              "\n",
              "    <script>\n",
              "      const buttonEl =\n",
              "        document.querySelector('#df-0ba32557-9075-4c6c-b884-e6a5029ad881 button.colab-df-convert');\n",
              "      buttonEl.style.display =\n",
              "        google.colab.kernel.accessAllowed ? 'block' : 'none';\n",
              "\n",
              "      async function convertToInteractive(key) {\n",
              "        const element = document.querySelector('#df-0ba32557-9075-4c6c-b884-e6a5029ad881');\n",
              "        const dataTable =\n",
              "          await google.colab.kernel.invokeFunction('convertToInteractive',\n",
              "                                                    [key], {});\n",
              "        if (!dataTable) return;\n",
              "\n",
              "        const docLinkHtml = 'Like what you see? Visit the ' +\n",
              "          '<a target=\"_blank\" href=https://colab.research.google.com/notebooks/data_table.ipynb>data table notebook</a>'\n",
              "          + ' to learn more about interactive tables.';\n",
              "        element.innerHTML = '';\n",
              "        dataTable['output_type'] = 'display_data';\n",
              "        await google.colab.output.renderOutput(dataTable, element);\n",
              "        const docLink = document.createElement('div');\n",
              "        docLink.innerHTML = docLinkHtml;\n",
              "        element.appendChild(docLink);\n",
              "      }\n",
              "    </script>\n",
              "  </div>\n",
              "\n",
              "\n",
              "<div id=\"df-7389864f-e446-43f6-a1b1-ea247cde2b38\">\n",
              "  <button class=\"colab-df-quickchart\" onclick=\"quickchart('df-7389864f-e446-43f6-a1b1-ea247cde2b38')\"\n",
              "            title=\"Suggest charts\"\n",
              "            style=\"display:none;\">\n",
              "\n",
              "<svg xmlns=\"http://www.w3.org/2000/svg\" height=\"24px\"viewBox=\"0 0 24 24\"\n",
              "     width=\"24px\">\n",
              "    <g>\n",
              "        <path d=\"M19 3H5c-1.1 0-2 .9-2 2v14c0 1.1.9 2 2 2h14c1.1 0 2-.9 2-2V5c0-1.1-.9-2-2-2zM9 17H7v-7h2v7zm4 0h-2V7h2v10zm4 0h-2v-4h2v4z\"/>\n",
              "    </g>\n",
              "</svg>\n",
              "  </button>\n",
              "\n",
              "<style>\n",
              "  .colab-df-quickchart {\n",
              "      --bg-color: #E8F0FE;\n",
              "      --fill-color: #1967D2;\n",
              "      --hover-bg-color: #E2EBFA;\n",
              "      --hover-fill-color: #174EA6;\n",
              "      --disabled-fill-color: #AAA;\n",
              "      --disabled-bg-color: #DDD;\n",
              "  }\n",
              "\n",
              "  [theme=dark] .colab-df-quickchart {\n",
              "      --bg-color: #3B4455;\n",
              "      --fill-color: #D2E3FC;\n",
              "      --hover-bg-color: #434B5C;\n",
              "      --hover-fill-color: #FFFFFF;\n",
              "      --disabled-bg-color: #3B4455;\n",
              "      --disabled-fill-color: #666;\n",
              "  }\n",
              "\n",
              "  .colab-df-quickchart {\n",
              "    background-color: var(--bg-color);\n",
              "    border: none;\n",
              "    border-radius: 50%;\n",
              "    cursor: pointer;\n",
              "    display: none;\n",
              "    fill: var(--fill-color);\n",
              "    height: 32px;\n",
              "    padding: 0;\n",
              "    width: 32px;\n",
              "  }\n",
              "\n",
              "  .colab-df-quickchart:hover {\n",
              "    background-color: var(--hover-bg-color);\n",
              "    box-shadow: 0 1px 2px rgba(60, 64, 67, 0.3), 0 1px 3px 1px rgba(60, 64, 67, 0.15);\n",
              "    fill: var(--button-hover-fill-color);\n",
              "  }\n",
              "\n",
              "  .colab-df-quickchart-complete:disabled,\n",
              "  .colab-df-quickchart-complete:disabled:hover {\n",
              "    background-color: var(--disabled-bg-color);\n",
              "    fill: var(--disabled-fill-color);\n",
              "    box-shadow: none;\n",
              "  }\n",
              "\n",
              "  .colab-df-spinner {\n",
              "    border: 2px solid var(--fill-color);\n",
              "    border-color: transparent;\n",
              "    border-bottom-color: var(--fill-color);\n",
              "    animation:\n",
              "      spin 1s steps(1) infinite;\n",
              "  }\n",
              "\n",
              "  @keyframes spin {\n",
              "    0% {\n",
              "      border-color: transparent;\n",
              "      border-bottom-color: var(--fill-color);\n",
              "      border-left-color: var(--fill-color);\n",
              "    }\n",
              "    20% {\n",
              "      border-color: transparent;\n",
              "      border-left-color: var(--fill-color);\n",
              "      border-top-color: var(--fill-color);\n",
              "    }\n",
              "    30% {\n",
              "      border-color: transparent;\n",
              "      border-left-color: var(--fill-color);\n",
              "      border-top-color: var(--fill-color);\n",
              "      border-right-color: var(--fill-color);\n",
              "    }\n",
              "    40% {\n",
              "      border-color: transparent;\n",
              "      border-right-color: var(--fill-color);\n",
              "      border-top-color: var(--fill-color);\n",
              "    }\n",
              "    60% {\n",
              "      border-color: transparent;\n",
              "      border-right-color: var(--fill-color);\n",
              "    }\n",
              "    80% {\n",
              "      border-color: transparent;\n",
              "      border-right-color: var(--fill-color);\n",
              "      border-bottom-color: var(--fill-color);\n",
              "    }\n",
              "    90% {\n",
              "      border-color: transparent;\n",
              "      border-bottom-color: var(--fill-color);\n",
              "    }\n",
              "  }\n",
              "</style>\n",
              "\n",
              "  <script>\n",
              "    async function quickchart(key) {\n",
              "      const quickchartButtonEl =\n",
              "        document.querySelector('#' + key + ' button');\n",
              "      quickchartButtonEl.disabled = true;  // To prevent multiple clicks.\n",
              "      quickchartButtonEl.classList.add('colab-df-spinner');\n",
              "      try {\n",
              "        const charts = await google.colab.kernel.invokeFunction(\n",
              "            'suggestCharts', [key], {});\n",
              "      } catch (error) {\n",
              "        console.error('Error during call to suggestCharts:', error);\n",
              "      }\n",
              "      quickchartButtonEl.classList.remove('colab-df-spinner');\n",
              "      quickchartButtonEl.classList.add('colab-df-quickchart-complete');\n",
              "    }\n",
              "    (() => {\n",
              "      let quickchartButtonEl =\n",
              "        document.querySelector('#df-7389864f-e446-43f6-a1b1-ea247cde2b38 button');\n",
              "      quickchartButtonEl.style.display =\n",
              "        google.colab.kernel.accessAllowed ? 'block' : 'none';\n",
              "    })();\n",
              "  </script>\n",
              "</div>\n",
              "    </div>\n",
              "  </div>\n"
            ],
            "application/vnd.google.colaboratory.intrinsic+json": {
              "type": "dataframe",
              "variable_name": "df_1989"
            }
          },
          "metadata": {},
          "execution_count": 10
        }
      ]
    },
    {
      "cell_type": "code",
      "source": [
        "def dataframe_summary(df):\n",
        "  \"\"\"\n",
        "  Returns a few descriptive statistics about a dataframe, such as amount of empty values and number of unique values for the weather column,\n",
        "  most and least recorded countries and stations.\n",
        "\n",
        "  df: the dataframe to be summarized\n",
        "  \"\"\"\n",
        "  summary = {}\n",
        "\n",
        "  # Column types\n",
        "  summary['column_types'] = df.dtypes\n",
        "\n",
        "  # Count of NaNs per column\n",
        "  summary['nan_count'] = df.isnull().sum()\n",
        "\n",
        "  # Top 10 recorded couwntries and stations\n",
        "  cols = ['COUNTRY', 'STATION']\n",
        "  top_records = {}\n",
        "  for col in cols:\n",
        "      top_records[col] = df[col].value_counts().head(10)\n",
        "\n",
        "  # Create subplots for top recorded countries and stations\n",
        "  fig, axes = plt.subplots(2, figsize=(6, 6))\n",
        "  for i, (col, records) in enumerate(top_records.items()):\n",
        "      ax = axes[i]\n",
        "      ax.bar(records.index, records.values, color='skyblue')\n",
        "      ax.set_title(f'Top 10 Recorded {col}')\n",
        "      ax.set_xlabel(col)\n",
        "      ax.set_ylabel('Count')\n",
        "      ax.tick_params(axis='x', rotation=45)\n",
        "\n",
        "  plt.tight_layout()\n",
        "  plt.show()\n",
        "\n",
        "  # Plot counts for 'ELEMENT' (weather)\n",
        "  element_counts = df['ELEMENT'].value_counts()\n",
        "  mean_count = element_counts.mean()  # Take only values that occur more than half the time to be memory efficient\n",
        "  filtered_element_counts = element_counts[element_counts > mean_count]\n",
        "\n",
        "  plt.figure(figsize=(6, 3))\n",
        "  filtered_element_counts.plot(kind='bar', color='skyblue')\n",
        "  plt.title('Counts for ELEMENT (filtered)')\n",
        "  plt.xlabel('ELEMENT')\n",
        "  plt.ylabel('Count')\n",
        "  plt.xticks(rotation=45)\n",
        "  plt.show()\n",
        "\n",
        "  return summary"
      ],
      "metadata": {
        "id": "5jMU_7fjt1oM"
      },
      "execution_count": 11,
      "outputs": []
    },
    {
      "cell_type": "code",
      "source": [
        "summary = dataframe_summary(df_1989)\n",
        "summary"
      ],
      "metadata": {
        "colab": {
          "base_uri": "https://localhost:8080/",
          "height": 1000
        },
        "id": "TIGa40XBt2eK",
        "outputId": "6696bdfd-0f99-4011-cbd5-4a644c0d5ca6"
      },
      "execution_count": 12,
      "outputs": [
        {
          "output_type": "display_data",
          "data": {
            "text/plain": [
              "<Figure size 600x600 with 2 Axes>"
            ],
            "image/png": "[encoded data removed]"
          },
          "metadata": {}
        },
        {
          "output_type": "display_data",
          "data": {
            "text/plain": [
              "<Figure size 600x300 with 1 Axes>"
            ],
            "image/png": "[encoded data removed]"
          },
          "metadata": {}
        },
        {
          "output_type": "execute_result",
          "data": {
            "text/plain": [
              "{'column_types': ID             object\n",
              " DATE            int64\n",
              " ELEMENT        object\n",
              " DATA VALUE      int64\n",
              " M-FLAG         object\n",
              " Q-FLAG         object\n",
              " S-FLAG         object\n",
              " OBS-TIME      float64\n",
              " COUNTRY        object\n",
              " STATION        object\n",
              " YEAR            int64\n",
              " dtype: object,\n",
              " 'nan_count': ID                   0\n",
              " DATE                 0\n",
              " ELEMENT              0\n",
              " DATA VALUE           0\n",
              " M-FLAG        27134573\n",
              " Q-FLAG        33935372\n",
              " S-FLAG               0\n",
              " OBS-TIME      25713434\n",
              " COUNTRY              0\n",
              " STATION              0\n",
              " YEAR                 0\n",
              " dtype: int64}"
            ]
          },
          "metadata": {},
          "execution_count": 12
        }
      ]
    },
    {
      "cell_type": "markdown",
      "source": [
        "So, with a quick look, we can see that in 1989, the USA had the most weather recordings. The corresponding most active weather station is also in the USA. You can use https://www.ncdc.noaa.gov/cdo-web/datatools/findstation to pinpoint the location of a station based on its **WBAN identification number**. We can see our most recorded station is in Nebraska.\n",
        "\n",
        "![Nebraska Station Location]('/content/nebraska.PNG')\n",
        "\n",
        "We can also notice that there many empty entries for measurement flag (*M-FLAG*), quality flag (*Q_FLAG*), and observation time (*OBS-TIME*). This means we can expect that our analysis will only contain the weather conditions on a specific day, disregarding how it was measured. Also, most recordings focus on temperature (*max, min, avg temperature*).\n",
        "\n",
        "As a reminder, you can check the meaning of all symbols at http://noaa-ghcn-pds.s3.amazonaws.com/ghcnd-stations.txt."
      ],
      "metadata": {
        "id": "SkfG4xP6520e"
      }
    },
    {
      "cell_type": "markdown",
      "source": [
        "Okay, now that we're done looking at it, let's delete the data frame to free up some memory."
      ],
      "metadata": {
        "id": "bCbFBtAq5AaG"
      }
    },
    {
      "cell_type": "code",
      "source": [
        "del df_1989\n",
        "gc.collect()"
      ],
      "metadata": {
        "colab": {
          "base_uri": "https://localhost:8080/"
        },
        "id": "JXKeBMHl5Hmp",
        "outputId": "7922fca5-aec1-458c-98c9-665fed05ebdb"
      },
      "execution_count": 13,
      "outputs": [
        {
          "output_type": "execute_result",
          "data": {
            "text/plain": [
              "11143"
            ]
          },
          "metadata": {},
          "execution_count": 13
        }
      ]
    },
    {
      "cell_type": "markdown",
      "source": [
        "## Selecting countries"
      ],
      "metadata": {
        "id": "tFHFc2dN890C"
      }
    },
    {
      "cell_type": "markdown",
      "source": [
        "In order to create a comprehensive and reliable database of weather observations, we aim to prioritize countries with the longest continuous records of data collection, providing a more robust foundation for analyzing trends and making informed decisions about climate change. Aditiionally, it is important to select countries that are still actively collecting data today, ensuring that the database remains up-to-date and relevant.\n",
        "\n",
        "To achieve this, we conduct a search to identify the earliest recording stations around the world, taking into account factors such as the availability of historical records and completeness. Next, we rank these stations based on the total number of recordings they have collected over the first 100 years of recorded observations, giving preference to those with the largest number of observations. This ranking allows us to prioritize countries with the most extensive datasets, which in turn enables us to build a more accurate and reliable picture of long-term climate trends."
      ],
      "metadata": {
        "id": "nJDu7pSOrXjM"
      }
    },
    {
      "cell_type": "code",
      "execution_count": 14,
      "metadata": {
        "id": "2IvUfkR3Xyd0"
      },
      "outputs": [],
      "source": [
        "def oldest_countries():\n",
        "  \"\"\"\n",
        "  Retrieves the top 10 countries with the most entries in the earliest 100 years recorded in the dataset, along with their first appearance year.\n",
        "  \"\"\"\n",
        "  years_range = range(int(min(years)), int(min(years)) + 100)\n",
        "  oldest = pd.DataFrame()\n",
        "  country_first_year = {}\n",
        "\n",
        "  for year in years_range:\n",
        "      old = load_df(year)\n",
        "      oldest = pd.concat([oldest, old], axis=0)\n",
        "      for country in old['COUNTRY'].unique():\n",
        "          if country not in country_first_year or year < country_first_year[country]:\n",
        "              country_first_year[country] = year\n",
        "\n",
        "  grouped = oldest.groupby(['COUNTRY', 'STATION']).size().reset_index(name='ENTRY_COUNT')\n",
        "  grouped_data_sorted = grouped.sort_values(by='ENTRY_COUNT', ascending=False)\n",
        "\n",
        "  del oldest, grouped\n",
        "  gc.collect()\n",
        "\n",
        "  top_10 = grouped_data_sorted.head(10)\n",
        "\n",
        "  # Plotting the results\n",
        "  plt.figure(figsize=(6, 6))\n",
        "  plt.barh(range(len(top_10)), top_10['ENTRY_COUNT'], color='skyblue')\n",
        "  plt.yticks(range(len(top_10)), [f\"{country} - {station}\" for country, station in zip(top_10['COUNTRY'], top_10['STATION'])])\n",
        "  plt.xlabel('Entry Count')\n",
        "  plt.ylabel('Country - Station')\n",
        "  plt.title('Top 10 Entry Count by Country and Station')\n",
        "  plt.gca().invert_yaxis()\n",
        "  plt.show()\n",
        "\n",
        "  # Displaying the top 10 countries with their first appearance year\n",
        "  top_10_with_years = top_10.copy()\n",
        "  top_10_with_years['FIRST_YEAR'] = [country_first_year[country] for country in top_10_with_years['COUNTRY']]\n",
        "  top_10_with_years = top_10_with_years.sort_values(by='FIRST_YEAR')\n",
        "\n",
        "  del top_10\n",
        "  return top_10_with_years[['COUNTRY', 'FIRST_YEAR', 'STATION']]"
      ]
    },
    {
      "cell_type": "code",
      "source": [
        "oldest_countries()"
      ],
      "metadata": {
        "colab": {
          "base_uri": "https://localhost:8080/",
          "height": 910
        },
        "id": "Bu7M1f8Zn_d9",
        "outputId": "e6c4c6ea-cb7a-4d65-cd3c-9e4e4eab70b2"
      },
      "execution_count": 15,
      "outputs": [
        {
          "output_type": "display_data",
          "data": {
            "text/plain": [
              "<Figure size 600x600 with 1 Axes>"
            ],
            "image/png": "[encoded data removed]"
          },
          "metadata": {}
        },
        {
          "output_type": "execute_result",
          "data": {
            "text/plain": [
              "   COUNTRY  FIRST_YEAR    STATION\n",
              "49      IT        1763  E00100554\n",
              "46      IT        1763  E00100550\n",
              "40      EZ        1775  E00100082\n",
              "41      GM        1781  000004204\n",
              "42      GM        1781  000010962\n",
              "72      UK        1814  000056225\n",
              "71      UK        1814  000047811\n",
              "37      BE        1833  000006447\n",
              "67      SW        1836  E00139148\n",
              "38      CA        1840  006158350"
            ],
            "text/html": [
              "\n",
              "  <div id=\"df-a532e4df-5d03-46af-806a-ecad7a195f94\" class=\"colab-df-container\">\n",
              "    <div>\n",
              "<style scoped>\n",
              "    .dataframe tbody tr th:only-of-type {\n",
              "        vertical-align: middle;\n",
              "    }\n",
              "\n",
              "    .dataframe tbody tr th {\n",
              "        vertical-align: top;\n",
              "    }\n",
              "\n",
              "    .dataframe thead th {\n",
              "        text-align: right;\n",
              "    }\n",
              "</style>\n",
              "<table border=\"1\" class=\"dataframe\">\n",
              "  <thead>\n",
              "    <tr style=\"text-align: right;\">\n",
              "      <th></th>\n",
              "      <th>COUNTRY</th>\n",
              "      <th>FIRST_YEAR</th>\n",
              "      <th>STATION</th>\n",
              "    </tr>\n",
              "  </thead>\n",
              "  <tbody>\n",
              "    <tr>\n",
              "      <th>49</th>\n",
              "      <td>IT</td>\n",
              "      <td>1763</td>\n",
              "      <td>E00100554</td>\n",
              "    </tr>\n",
              "    <tr>\n",
              "      <th>46</th>\n",
              "      <td>IT</td>\n",
              "      <td>1763</td>\n",
              "      <td>E00100550</td>\n",
              "    </tr>\n",
              "    <tr>\n",
              "      <th>40</th>\n",
              "      <td>EZ</td>\n",
              "      <td>1775</td>\n",
              "      <td>E00100082</td>\n",
              "    </tr>\n",
              "    <tr>\n",
              "      <th>41</th>\n",
              "      <td>GM</td>\n",
              "      <td>1781</td>\n",
              "      <td>000004204</td>\n",
              "    </tr>\n",
              "    <tr>\n",
              "      <th>42</th>\n",
              "      <td>GM</td>\n",
              "      <td>1781</td>\n",
              "      <td>000010962</td>\n",
              "    </tr>\n",
              "    <tr>\n",
              "      <th>72</th>\n",
              "      <td>UK</td>\n",
              "      <td>1814</td>\n",
              "      <td>000056225</td>\n",
              "    </tr>\n",
              "    <tr>\n",
              "      <th>71</th>\n",
              "      <td>UK</td>\n",
              "      <td>1814</td>\n",
              "      <td>000047811</td>\n",
              "    </tr>\n",
              "    <tr>\n",
              "      <th>37</th>\n",
              "      <td>BE</td>\n",
              "      <td>1833</td>\n",
              "      <td>000006447</td>\n",
              "    </tr>\n",
              "    <tr>\n",
              "      <th>67</th>\n",
              "      <td>SW</td>\n",
              "      <td>1836</td>\n",
              "      <td>E00139148</td>\n",
              "    </tr>\n",
              "    <tr>\n",
              "      <th>38</th>\n",
              "      <td>CA</td>\n",
              "      <td>1840</td>\n",
              "      <td>006158350</td>\n",
              "    </tr>\n",
              "  </tbody>\n",
              "</table>\n",
              "</div>\n",
              "    <div class=\"colab-df-buttons\">\n",
              "\n",
              "  <div class=\"colab-df-container\">\n",
              "    <button class=\"colab-df-convert\" onclick=\"convertToInteractive('df-a532e4df-5d03-46af-806a-ecad7a195f94')\"\n",
              "            title=\"Convert this dataframe to an interactive table.\"\n",
              "            style=\"display:none;\">\n",
              "\n",
              "  <svg xmlns=\"http://www.w3.org/2000/svg\" height=\"24px\" viewBox=\"0 -960 960 960\">\n",
              "    <path d=\"M120-120v-720h720v720H120Zm60-500h600v-160H180v160Zm220 220h160v-160H400v160Zm0 220h160v-160H400v160ZM180-400h160v-160H180v160Zm440 0h160v-160H620v160ZM180-180h160v-160H180v160Zm440 0h160v-160H620v160Z\"/>\n",
              "  </svg>\n",
              "    </button>\n",
              "\n",
              "  <style>\n",
              "    .colab-df-container {\n",
              "      display:flex;\n",
              "      gap: 12px;\n",
              "    }\n",
              "\n",
              "    .colab-df-convert {\n",
              "      background-color: #E8F0FE;\n",
              "      border: none;\n",
              "      border-radius: 50%;\n",
              "      cursor: pointer;\n",
              "      display: none;\n",
              "      fill: #1967D2;\n",
              "      height: 32px;\n",
              "      padding: 0 0 0 0;\n",
              "      width: 32px;\n",
              "    }\n",
              "\n",
              "    .colab-df-convert:hover {\n",
              "      background-color: #E2EBFA;\n",
              "      box-shadow: 0px 1px 2px rgba(60, 64, 67, 0.3), 0px 1px 3px 1px rgba(60, 64, 67, 0.15);\n",
              "      fill: #174EA6;\n",
              "    }\n",
              "\n",
              "    .colab-df-buttons div {\n",
              "      margin-bottom: 4px;\n",
              "    }\n",
              "\n",
              "    [theme=dark] .colab-df-convert {\n",
              "      background-color: #3B4455;\n",
              "      fill: #D2E3FC;\n",
              "    }\n",
              "\n",
              "    [theme=dark] .colab-df-convert:hover {\n",
              "      background-color: #434B5C;\n",
              "      box-shadow: 0px 1px 3px 1px rgba(0, 0, 0, 0.15);\n",
              "      filter: drop-shadow(0px 1px 2px rgba(0, 0, 0, 0.3));\n",
              "      fill: #FFFFFF;\n",
              "    }\n",
              "  </style>\n",
              "\n",
              "    <script>\n",
              "      const buttonEl =\n",
              "        document.querySelector('#df-a532e4df-5d03-46af-806a-ecad7a195f94 button.colab-df-convert');\n",
              "      buttonEl.style.display =\n",
              "        google.colab.kernel.accessAllowed ? 'block' : 'none';\n",
              "\n",
              "      async function convertToInteractive(key) {\n",
              "        const element = document.querySelector('#df-a532e4df-5d03-46af-806a-ecad7a195f94');\n",
              "        const dataTable =\n",
              "          await google.colab.kernel.invokeFunction('convertToInteractive',\n",
              "                                                    [key], {});\n",
              "        if (!dataTable) return;\n",
              "\n",
              "        const docLinkHtml = 'Like what you see? Visit the ' +\n",
              "          '<a target=\"_blank\" href=https://colab.research.google.com/notebooks/data_table.ipynb>data table notebook</a>'\n",
              "          + ' to learn more about interactive tables.';\n",
              "        element.innerHTML = '';\n",
              "        dataTable['output_type'] = 'display_data';\n",
              "        await google.colab.output.renderOutput(dataTable, element);\n",
              "        const docLink = document.createElement('div');\n",
              "        docLink.innerHTML = docLinkHtml;\n",
              "        element.appendChild(docLink);\n",
              "      }\n",
              "    </script>\n",
              "  </div>\n",
              "\n",
              "\n",
              "<div id=\"df-f8b8b026-4d2c-4463-a210-6a9e28186978\">\n",
              "  <button class=\"colab-df-quickchart\" onclick=\"quickchart('df-f8b8b026-4d2c-4463-a210-6a9e28186978')\"\n",
              "            title=\"Suggest charts\"\n",
              "            style=\"display:none;\">\n",
              "\n",
              "<svg xmlns=\"http://www.w3.org/2000/svg\" height=\"24px\"viewBox=\"0 0 24 24\"\n",
              "     width=\"24px\">\n",
              "    <g>\n",
              "        <path d=\"M19 3H5c-1.1 0-2 .9-2 2v14c0 1.1.9 2 2 2h14c1.1 0 2-.9 2-2V5c0-1.1-.9-2-2-2zM9 17H7v-7h2v7zm4 0h-2V7h2v10zm4 0h-2v-4h2v4z\"/>\n",
              "    </g>\n",
              "</svg>\n",
              "  </button>\n",
              "\n",
              "<style>\n",
              "  .colab-df-quickchart {\n",
              "      --bg-color: #E8F0FE;\n",
              "      --fill-color: #1967D2;\n",
              "      --hover-bg-color: #E2EBFA;\n",
              "      --hover-fill-color: #174EA6;\n",
              "      --disabled-fill-color: #AAA;\n",
              "      --disabled-bg-color: #DDD;\n",
              "  }\n",
              "\n",
              "  [theme=dark] .colab-df-quickchart {\n",
              "      --bg-color: #3B4455;\n",
              "      --fill-color: #D2E3FC;\n",
              "      --hover-bg-color: #434B5C;\n",
              "      --hover-fill-color: #FFFFFF;\n",
              "      --disabled-bg-color: #3B4455;\n",
              "      --disabled-fill-color: #666;\n",
              "  }\n",
              "\n",
              "  .colab-df-quickchart {\n",
              "    background-color: var(--bg-color);\n",
              "    border: none;\n",
              "    border-radius: 50%;\n",
              "    cursor: pointer;\n",
              "    display: none;\n",
              "    fill: var(--fill-color);\n",
              "    height: 32px;\n",
              "    padding: 0;\n",
              "    width: 32px;\n",
              "  }\n",
              "\n",
              "  .colab-df-quickchart:hover {\n",
              "    background-color: var(--hover-bg-color);\n",
              "    box-shadow: 0 1px 2px rgba(60, 64, 67, 0.3), 0 1px 3px 1px rgba(60, 64, 67, 0.15);\n",
              "    fill: var(--button-hover-fill-color);\n",
              "  }\n",
              "\n",
              "  .colab-df-quickchart-complete:disabled,\n",
              "  .colab-df-quickchart-complete:disabled:hover {\n",
              "    background-color: var(--disabled-bg-color);\n",
              "    fill: var(--disabled-fill-color);\n",
              "    box-shadow: none;\n",
              "  }\n",
              "\n",
              "  .colab-df-spinner {\n",
              "    border: 2px solid var(--fill-color);\n",
              "    border-color: transparent;\n",
              "    border-bottom-color: var(--fill-color);\n",
              "    animation:\n",
              "      spin 1s steps(1) infinite;\n",
              "  }\n",
              "\n",
              "  @keyframes spin {\n",
              "    0% {\n",
              "      border-color: transparent;\n",
              "      border-bottom-color: var(--fill-color);\n",
              "      border-left-color: var(--fill-color);\n",
              "    }\n",
              "    20% {\n",
              "      border-color: transparent;\n",
              "      border-left-color: var(--fill-color);\n",
              "      border-top-color: var(--fill-color);\n",
              "    }\n",
              "    30% {\n",
              "      border-color: transparent;\n",
              "      border-left-color: var(--fill-color);\n",
              "      border-top-color: var(--fill-color);\n",
              "      border-right-color: var(--fill-color);\n",
              "    }\n",
              "    40% {\n",
              "      border-color: transparent;\n",
              "      border-right-color: var(--fill-color);\n",
              "      border-top-color: var(--fill-color);\n",
              "    }\n",
              "    60% {\n",
              "      border-color: transparent;\n",
              "      border-right-color: var(--fill-color);\n",
              "    }\n",
              "    80% {\n",
              "      border-color: transparent;\n",
              "      border-right-color: var(--fill-color);\n",
              "      border-bottom-color: var(--fill-color);\n",
              "    }\n",
              "    90% {\n",
              "      border-color: transparent;\n",
              "      border-bottom-color: var(--fill-color);\n",
              "    }\n",
              "  }\n",
              "</style>\n",
              "\n",
              "  <script>\n",
              "    async function quickchart(key) {\n",
              "      const quickchartButtonEl =\n",
              "        document.querySelector('#' + key + ' button');\n",
              "      quickchartButtonEl.disabled = true;  // To prevent multiple clicks.\n",
              "      quickchartButtonEl.classList.add('colab-df-spinner');\n",
              "      try {\n",
              "        const charts = await google.colab.kernel.invokeFunction(\n",
              "            'suggestCharts', [key], {});\n",
              "      } catch (error) {\n",
              "        console.error('Error during call to suggestCharts:', error);\n",
              "      }\n",
              "      quickchartButtonEl.classList.remove('colab-df-spinner');\n",
              "      quickchartButtonEl.classList.add('colab-df-quickchart-complete');\n",
              "    }\n",
              "    (() => {\n",
              "      let quickchartButtonEl =\n",
              "        document.querySelector('#df-f8b8b026-4d2c-4463-a210-6a9e28186978 button');\n",
              "      quickchartButtonEl.style.display =\n",
              "        google.colab.kernel.accessAllowed ? 'block' : 'none';\n",
              "    })();\n",
              "  </script>\n",
              "</div>\n",
              "    </div>\n",
              "  </div>\n"
            ],
            "application/vnd.google.colaboratory.intrinsic+json": {
              "type": "dataframe",
              "summary": "{\n  \"name\": \"oldest_countries()\",\n  \"rows\": 10,\n  \"fields\": [\n    {\n      \"column\": \"COUNTRY\",\n      \"properties\": {\n        \"dtype\": \"string\",\n        \"num_unique_values\": 7,\n        \"samples\": [\n          \"IT\",\n          \"EZ\",\n          \"SW\"\n        ],\n        \"semantic_type\": \"\",\n        \"description\": \"\"\n      }\n    },\n    {\n      \"column\": \"FIRST_YEAR\",\n      \"properties\": {\n        \"dtype\": \"number\",\n        \"std\": 30,\n        \"min\": 1763,\n        \"max\": 1840,\n        \"num_unique_values\": 7,\n        \"samples\": [\n          1763,\n          1775,\n          1836\n        ],\n        \"semantic_type\": \"\",\n        \"description\": \"\"\n      }\n    },\n    {\n      \"column\": \"STATION\",\n      \"properties\": {\n        \"dtype\": \"string\",\n        \"num_unique_values\": 10,\n        \"samples\": [\n          \"E00139148\",\n          \"E00100550\",\n          \"000056225\"\n        ],\n        \"semantic_type\": \"\",\n        \"description\": \"\"\n      }\n    }\n  ]\n}"
            }
          },
          "metadata": {},
          "execution_count": 15
        }
      ]
    },
    {
      "cell_type": "markdown",
      "source": [
        "We see that Italy is the country that has been recording for the longest, with 2 stations, meaning it is a reliable data source. Most of the oldest stations are all located in Europe, except CA- Canada. We choose that as our second country to analyse due to its geographical position. However, since these recordings are very old, we need to check if the corresponding stations still exist."
      ],
      "metadata": {
        "id": "pwzUdws0_9SF"
      }
    },
    {
      "cell_type": "code",
      "source": [
        "def station_still_exists(stations):\n",
        "  \"\"\"\n",
        "  Quick check if the oldest stations we are interested in are still present today.\n",
        "  stations: the stations to be checked\n",
        "  \"\"\"\n",
        "\n",
        "  # Load the latest year\n",
        "  df = load_df_part(int(max(years)), 0, ['ID'])\n",
        "  df['STATION'] = df['ID'].str[2:]\n",
        "\n",
        "\n",
        "  for station in stations:\n",
        "    if station in df['STATION'].unique():\n",
        "        print(f\"{station} is present in {int(max(years))}.\")\n",
        "    else:\n",
        "        print(f\"{station} is not present in {int(max(years))}.\")\n",
        "\n",
        "  del df\n",
        "  gc.collect()"
      ],
      "metadata": {
        "id": "1kbHlqigArtO"
      },
      "execution_count": 16,
      "outputs": []
    },
    {
      "cell_type": "code",
      "source": [
        "station_still_exists(['E00100554', 'E00100550', '006158350']) # I cant tell if Im doing something wrong here and im having a mental breakdown, will fix later"
      ],
      "metadata": {
        "colab": {
          "base_uri": "https://localhost:8080/"
        },
        "id": "LrHJsqWiBNOu",
        "outputId": "3c71ae74-fec6-4ed6-9359-2702deca3b56"
      },
      "execution_count": 17,
      "outputs": [
        {
          "output_type": "stream",
          "name": "stdout",
          "text": [
            "E00100554 is not present in 2022.\n",
            "E00100550 is not present in 2022.\n",
            "006158350 is not present in 2022.\n"
          ]
        }
      ]
    },
    {
      "cell_type": "markdown",
      "metadata": {
        "id": "Ta8s0ovRne4e"
      },
      "source": [
        "# Download files per station"
      ]
    },
    {
      "cell_type": "markdown",
      "metadata": {
        "id": "lQkhYE9kne4e"
      },
      "source": [
        "There are two types of files in the bucket: one `.csv` per year between 1763 and 2022 (e.g. `csv.gz/2019.csv.gz`), and one `.csv` per station (e.g. `csv.gz/by_station/AGE00147713.csv.gz`). The prefix of the `by_station` ID (such as \"AGE00147713\") indicates the country, whereas one country can have multiple prefixes (e.g. \"IT\", \"ITE\", \"ITM\" and \"ITW\" for Italy).\n",
        "\n",
        "The yearly files combine the data of all stations which have datapoints for that year, and the ones per station combine all the years for which data was recorded for that station. Since we are only interested in the stations in Italy, we only download the files which have `by_station` and \"IT\" in the URL. This will also include Italy's other prefixes.\n",
        "\n",
        "As the files in the bucket are sorted (yearly files first, files per station after in alphabetical order), the iteration stops after the first element that has `by_station/IV` in its key, which is the next country prefix after Italy."
      ]
    },
    {
      "cell_type": "markdown",
      "source": [
        "## ITALY"
      ],
      "metadata": {
        "id": "OnQ7AYwqBqLS"
      }
    },
    {
      "cell_type": "markdown",
      "metadata": {
        "id": "2p9riNBCne4g"
      },
      "source": [
        "### Load file"
      ]
    },
    {
      "cell_type": "code",
      "source": [
        "gc.collect()"
      ],
      "metadata": {
        "colab": {
          "base_uri": "https://localhost:8080/"
        },
        "id": "Im6Zoy3Ab4zt",
        "outputId": "47180c81-b5a5-44c6-e00b-33d5b537d14a"
      },
      "execution_count": 18,
      "outputs": [
        {
          "output_type": "execute_result",
          "data": {
            "text/plain": [
              "0"
            ]
          },
          "metadata": {},
          "execution_count": 18
        }
      ]
    },
    {
      "cell_type": "code",
      "source": [
        "def load_country(country_code, start_year=None, end_year=None):\n",
        "    \"\"\"\n",
        "    A function to create a dataframe of the data related to a country between certain years\n",
        "    country_code:\n",
        "    start_year:\n",
        "    end_year:\n",
        "    \"\"\"\n",
        "    df_list = []\n",
        "\n",
        "    for obj in bucket.objects.all():\n",
        "        if 'by_station' not in obj.key and obj.key.endswith('.csv.gz'):\n",
        "            _, filename = os.path.split(obj.key)\n",
        "            year = int(filename.split('.')[0])  # Extract the year from the filename\n",
        "\n",
        "            if (start_year is not None and year < start_year):\n",
        "                continue\n",
        "\n",
        "            if (end_year is not None and year > end_year):\n",
        "                break\n",
        "\n",
        "            local_path = data_root + filename\n",
        "\n",
        "            if not os.path.isfile(local_path):\n",
        "                print(\"Downloading:\", obj.key)  # Print when downloading for debugging\n",
        "                s3_client.download_file('noaa-ghcn-pds', obj.key, local_path)\n",
        "\n",
        "            df = load_df(year)\n",
        "            df = df[df['COUNTRY'] == country_code]\n",
        "            df_list.append(df)\n",
        "\n",
        "            del df\n",
        "            gc.collect()\n",
        "\n",
        "    print(\"Number of files processed:\", len(df_list))  # Print number of files processed\n",
        "    combined_df = pd.concat(df_list, ignore_index=True, axis=0)\n",
        "\n",
        "    return combined_df"
      ],
      "metadata": {
        "id": "qFT16OyFUnXV"
      },
      "execution_count": 19,
      "outputs": []
    },
    {
      "cell_type": "code",
      "source": [
        "italy_df = load_country('IT', 1763, 1850) # am crash with more\n",
        "italy_df.head()"
      ],
      "metadata": {
        "id": "W_TETF3HbW_R",
        "colab": {
          "base_uri": "https://localhost:8080/",
          "height": 223
        },
        "outputId": "15f2de9b-3fdc-4d76-e749-43246aa333c4"
      },
      "execution_count": 20,
      "outputs": [
        {
          "output_type": "stream",
          "name": "stdout",
          "text": [
            "Number of files processed: 88\n"
          ]
        },
        {
          "output_type": "execute_result",
          "data": {
            "text/plain": [
              "            ID      DATE ELEMENT  DATA VALUE M-FLAG Q-FLAG S-FLAG  OBS-TIME  \\\n",
              "0  ITE00100554  17630101    TMIN         -50    NaN    NaN      E       NaN   \n",
              "1  ITE00100554  17630102    TMAX         -26    NaN    NaN      E       NaN   \n",
              "2  ITE00100554  17630102    TMIN         -40    NaN    NaN      E       NaN   \n",
              "3  ITE00100554  17630103    TMAX          -9    NaN    NaN      E       NaN   \n",
              "4  ITE00100554  17630103    TMIN         -29    NaN    NaN      E       NaN   \n",
              "\n",
              "  COUNTRY    STATION  YEAR  \n",
              "0      IT  E00100554  1763  \n",
              "1      IT  E00100554  1763  \n",
              "2      IT  E00100554  1763  \n",
              "3      IT  E00100554  1763  \n",
              "4      IT  E00100554  1763  "
            ],
            "text/html": [
              "\n",
              "  <div id=\"df-34437976-b93a-4832-9e5c-492a632fdcd9\" class=\"colab-df-container\">\n",
              "    <div>\n",
              "<style scoped>\n",
              "    .dataframe tbody tr th:only-of-type {\n",
              "        vertical-align: middle;\n",
              "    }\n",
              "\n",
              "    .dataframe tbody tr th {\n",
              "        vertical-align: top;\n",
              "    }\n",
              "\n",
              "    .dataframe thead th {\n",
              "        text-align: right;\n",
              "    }\n",
              "</style>\n",
              "<table border=\"1\" class=\"dataframe\">\n",
              "  <thead>\n",
              "    <tr style=\"text-align: right;\">\n",
              "      <th></th>\n",
              "      <th>ID</th>\n",
              "      <th>DATE</th>\n",
              "      <th>ELEMENT</th>\n",
              "      <th>DATA VALUE</th>\n",
              "      <th>M-FLAG</th>\n",
              "      <th>Q-FLAG</th>\n",
              "      <th>S-FLAG</th>\n",
              "      <th>OBS-TIME</th>\n",
              "      <th>COUNTRY</th>\n",
              "      <th>STATION</th>\n",
              "      <th>YEAR</th>\n",
              "    </tr>\n",
              "  </thead>\n",
              "  <tbody>\n",
              "    <tr>\n",
              "      <th>0</th>\n",
              "      <td>ITE00100554</td>\n",
              "      <td>17630101</td>\n",
              "      <td>TMIN</td>\n",
              "      <td>-50</td>\n",
              "      <td>NaN</td>\n",
              "      <td>NaN</td>\n",
              "      <td>E</td>\n",
              "      <td>NaN</td>\n",
              "      <td>IT</td>\n",
              "      <td>E00100554</td>\n",
              "      <td>1763</td>\n",
              "    </tr>\n",
              "    <tr>\n",
              "      <th>1</th>\n",
              "      <td>ITE00100554</td>\n",
              "      <td>17630102</td>\n",
              "      <td>TMAX</td>\n",
              "      <td>-26</td>\n",
              "      <td>NaN</td>\n",
              "      <td>NaN</td>\n",
              "      <td>E</td>\n",
              "      <td>NaN</td>\n",
              "      <td>IT</td>\n",
              "      <td>E00100554</td>\n",
              "      <td>1763</td>\n",
              "    </tr>\n",
              "    <tr>\n",
              "      <th>2</th>\n",
              "      <td>ITE00100554</td>\n",
              "      <td>17630102</td>\n",
              "      <td>TMIN</td>\n",
              "      <td>-40</td>\n",
              "      <td>NaN</td>\n",
              "      <td>NaN</td>\n",
              "      <td>E</td>\n",
              "      <td>NaN</td>\n",
              "      <td>IT</td>\n",
              "      <td>E00100554</td>\n",
              "      <td>1763</td>\n",
              "    </tr>\n",
              "    <tr>\n",
              "      <th>3</th>\n",
              "      <td>ITE00100554</td>\n",
              "      <td>17630103</td>\n",
              "      <td>TMAX</td>\n",
              "      <td>-9</td>\n",
              "      <td>NaN</td>\n",
              "      <td>NaN</td>\n",
              "      <td>E</td>\n",
              "      <td>NaN</td>\n",
              "      <td>IT</td>\n",
              "      <td>E00100554</td>\n",
              "      <td>1763</td>\n",
              "    </tr>\n",
              "    <tr>\n",
              "      <th>4</th>\n",
              "      <td>ITE00100554</td>\n",
              "      <td>17630103</td>\n",
              "      <td>TMIN</td>\n",
              "      <td>-29</td>\n",
              "      <td>NaN</td>\n",
              "      <td>NaN</td>\n",
              "      <td>E</td>\n",
              "      <td>NaN</td>\n",
              "      <td>IT</td>\n",
              "      <td>E00100554</td>\n",
              "      <td>1763</td>\n",
              "    </tr>\n",
              "  </tbody>\n",
              "</table>\n",
              "</div>\n",
              "    <div class=\"colab-df-buttons\">\n",
              "\n",
              "  <div class=\"colab-df-container\">\n",
              "    <button class=\"colab-df-convert\" onclick=\"convertToInteractive('df-34437976-b93a-4832-9e5c-492a632fdcd9')\"\n",
              "            title=\"Convert this dataframe to an interactive table.\"\n",
              "            style=\"display:none;\">\n",
              "\n",
              "  <svg xmlns=\"http://www.w3.org/2000/svg\" height=\"24px\" viewBox=\"0 -960 960 960\">\n",
              "    <path d=\"M120-120v-720h720v720H120Zm60-500h600v-160H180v160Zm220 220h160v-160H400v160Zm0 220h160v-160H400v160ZM180-400h160v-160H180v160Zm440 0h160v-160H620v160ZM180-180h160v-160H180v160Zm440 0h160v-160H620v160Z\"/>\n",
              "  </svg>\n",
              "    </button>\n",
              "\n",
              "  <style>\n",
              "    .colab-df-container {\n",
              "      display:flex;\n",
              "      gap: 12px;\n",
              "    }\n",
              "\n",
              "    .colab-df-convert {\n",
              "      background-color: #E8F0FE;\n",
              "      border: none;\n",
              "      border-radius: 50%;\n",
              "      cursor: pointer;\n",
              "      display: none;\n",
              "      fill: #1967D2;\n",
              "      height: 32px;\n",
              "      padding: 0 0 0 0;\n",
              "      width: 32px;\n",
              "    }\n",
              "\n",
              "    .colab-df-convert:hover {\n",
              "      background-color: #E2EBFA;\n",
              "      box-shadow: 0px 1px 2px rgba(60, 64, 67, 0.3), 0px 1px 3px 1px rgba(60, 64, 67, 0.15);\n",
              "      fill: #174EA6;\n",
              "    }\n",
              "\n",
              "    .colab-df-buttons div {\n",
              "      margin-bottom: 4px;\n",
              "    }\n",
              "\n",
              "    [theme=dark] .colab-df-convert {\n",
              "      background-color: #3B4455;\n",
              "      fill: #D2E3FC;\n",
              "    }\n",
              "\n",
              "    [theme=dark] .colab-df-convert:hover {\n",
              "      background-color: #434B5C;\n",
              "      box-shadow: 0px 1px 3px 1px rgba(0, 0, 0, 0.15);\n",
              "      filter: drop-shadow(0px 1px 2px rgba(0, 0, 0, 0.3));\n",
              "      fill: #FFFFFF;\n",
              "    }\n",
              "  </style>\n",
              "\n",
              "    <script>\n",
              "      const buttonEl =\n",
              "        document.querySelector('#df-34437976-b93a-4832-9e5c-492a632fdcd9 button.colab-df-convert');\n",
              "      buttonEl.style.display =\n",
              "        google.colab.kernel.accessAllowed ? 'block' : 'none';\n",
              "\n",
              "      async function convertToInteractive(key) {\n",
              "        const element = document.querySelector('#df-34437976-b93a-4832-9e5c-492a632fdcd9');\n",
              "        const dataTable =\n",
              "          await google.colab.kernel.invokeFunction('convertToInteractive',\n",
              "                                                    [key], {});\n",
              "        if (!dataTable) return;\n",
              "\n",
              "        const docLinkHtml = 'Like what you see? Visit the ' +\n",
              "          '<a target=\"_blank\" href=https://colab.research.google.com/notebooks/data_table.ipynb>data table notebook</a>'\n",
              "          + ' to learn more about interactive tables.';\n",
              "        element.innerHTML = '';\n",
              "        dataTable['output_type'] = 'display_data';\n",
              "        await google.colab.output.renderOutput(dataTable, element);\n",
              "        const docLink = document.createElement('div');\n",
              "        docLink.innerHTML = docLinkHtml;\n",
              "        element.appendChild(docLink);\n",
              "      }\n",
              "    </script>\n",
              "  </div>\n",
              "\n",
              "\n",
              "<div id=\"df-6d248536-957b-42ec-b03c-b3f0460dfda0\">\n",
              "  <button class=\"colab-df-quickchart\" onclick=\"quickchart('df-6d248536-957b-42ec-b03c-b3f0460dfda0')\"\n",
              "            title=\"Suggest charts\"\n",
              "            style=\"display:none;\">\n",
              "\n",
              "<svg xmlns=\"http://www.w3.org/2000/svg\" height=\"24px\"viewBox=\"0 0 24 24\"\n",
              "     width=\"24px\">\n",
              "    <g>\n",
              "        <path d=\"M19 3H5c-1.1 0-2 .9-2 2v14c0 1.1.9 2 2 2h14c1.1 0 2-.9 2-2V5c0-1.1-.9-2-2-2zM9 17H7v-7h2v7zm4 0h-2V7h2v10zm4 0h-2v-4h2v4z\"/>\n",
              "    </g>\n",
              "</svg>\n",
              "  </button>\n",
              "\n",
              "<style>\n",
              "  .colab-df-quickchart {\n",
              "      --bg-color: #E8F0FE;\n",
              "      --fill-color: #1967D2;\n",
              "      --hover-bg-color: #E2EBFA;\n",
              "      --hover-fill-color: #174EA6;\n",
              "      --disabled-fill-color: #AAA;\n",
              "      --disabled-bg-color: #DDD;\n",
              "  }\n",
              "\n",
              "  [theme=dark] .colab-df-quickchart {\n",
              "      --bg-color: #3B4455;\n",
              "      --fill-color: #D2E3FC;\n",
              "      --hover-bg-color: #434B5C;\n",
              "      --hover-fill-color: #FFFFFF;\n",
              "      --disabled-bg-color: #3B4455;\n",
              "      --disabled-fill-color: #666;\n",
              "  }\n",
              "\n",
              "  .colab-df-quickchart {\n",
              "    background-color: var(--bg-color);\n",
              "    border: none;\n",
              "    border-radius: 50%;\n",
              "    cursor: pointer;\n",
              "    display: none;\n",
              "    fill: var(--fill-color);\n",
              "    height: 32px;\n",
              "    padding: 0;\n",
              "    width: 32px;\n",
              "  }\n",
              "\n",
              "  .colab-df-quickchart:hover {\n",
              "    background-color: var(--hover-bg-color);\n",
              "    box-shadow: 0 1px 2px rgba(60, 64, 67, 0.3), 0 1px 3px 1px rgba(60, 64, 67, 0.15);\n",
              "    fill: var(--button-hover-fill-color);\n",
              "  }\n",
              "\n",
              "  .colab-df-quickchart-complete:disabled,\n",
              "  .colab-df-quickchart-complete:disabled:hover {\n",
              "    background-color: var(--disabled-bg-color);\n",
              "    fill: var(--disabled-fill-color);\n",
              "    box-shadow: none;\n",
              "  }\n",
              "\n",
              "  .colab-df-spinner {\n",
              "    border: 2px solid var(--fill-color);\n",
              "    border-color: transparent;\n",
              "    border-bottom-color: var(--fill-color);\n",
              "    animation:\n",
              "      spin 1s steps(1) infinite;\n",
              "  }\n",
              "\n",
              "  @keyframes spin {\n",
              "    0% {\n",
              "      border-color: transparent;\n",
              "      border-bottom-color: var(--fill-color);\n",
              "      border-left-color: var(--fill-color);\n",
              "    }\n",
              "    20% {\n",
              "      border-color: transparent;\n",
              "      border-left-color: var(--fill-color);\n",
              "      border-top-color: var(--fill-color);\n",
              "    }\n",
              "    30% {\n",
              "      border-color: transparent;\n",
              "      border-left-color: var(--fill-color);\n",
              "      border-top-color: var(--fill-color);\n",
              "      border-right-color: var(--fill-color);\n",
              "    }\n",
              "    40% {\n",
              "      border-color: transparent;\n",
              "      border-right-color: var(--fill-color);\n",
              "      border-top-color: var(--fill-color);\n",
              "    }\n",
              "    60% {\n",
              "      border-color: transparent;\n",
              "      border-right-color: var(--fill-color);\n",
              "    }\n",
              "    80% {\n",
              "      border-color: transparent;\n",
              "      border-right-color: var(--fill-color);\n",
              "      border-bottom-color: var(--fill-color);\n",
              "    }\n",
              "    90% {\n",
              "      border-color: transparent;\n",
              "      border-bottom-color: var(--fill-color);\n",
              "    }\n",
              "  }\n",
              "</style>\n",
              "\n",
              "  <script>\n",
              "    async function quickchart(key) {\n",
              "      const quickchartButtonEl =\n",
              "        document.querySelector('#' + key + ' button');\n",
              "      quickchartButtonEl.disabled = true;  // To prevent multiple clicks.\n",
              "      quickchartButtonEl.classList.add('colab-df-spinner');\n",
              "      try {\n",
              "        const charts = await google.colab.kernel.invokeFunction(\n",
              "            'suggestCharts', [key], {});\n",
              "      } catch (error) {\n",
              "        console.error('Error during call to suggestCharts:', error);\n",
              "      }\n",
              "      quickchartButtonEl.classList.remove('colab-df-spinner');\n",
              "      quickchartButtonEl.classList.add('colab-df-quickchart-complete');\n",
              "    }\n",
              "    (() => {\n",
              "      let quickchartButtonEl =\n",
              "        document.querySelector('#df-6d248536-957b-42ec-b03c-b3f0460dfda0 button');\n",
              "      quickchartButtonEl.style.display =\n",
              "        google.colab.kernel.accessAllowed ? 'block' : 'none';\n",
              "    })();\n",
              "  </script>\n",
              "</div>\n",
              "    </div>\n",
              "  </div>\n"
            ],
            "application/vnd.google.colaboratory.intrinsic+json": {
              "type": "dataframe",
              "variable_name": "italy_df"
            }
          },
          "metadata": {},
          "execution_count": 20
        }
      ]
    },
    {
      "cell_type": "code",
      "source": [
        "italy_df.sample(20)"
      ],
      "metadata": {
        "colab": {
          "base_uri": "https://localhost:8080/",
          "height": 676
        },
        "id": "PV-9LW1dWePK",
        "outputId": "9bd8d70f-98ff-4297-b5b8-a3182c21f4b4"
      },
      "execution_count": 21,
      "outputs": [
        {
          "output_type": "execute_result",
          "data": {
            "text/plain": [
              "                 ID      DATE ELEMENT  DATA VALUE M-FLAG Q-FLAG S-FLAG  \\\n",
              "14049   ITE00100554  17820401    TMIN          81    NaN    NaN      E   \n",
              "67295   ITE00100550  18280309    PRCP           0    NaN    NaN      E   \n",
              "102624  ITE00100554  18421114    TMAX         145    NaN    NaN      E   \n",
              "23338   ITE00100554  17941219    TMAX           0    NaN    NaN      E   \n",
              "109652  ITE00100554  18450814    TMAX         253    NaN    NaN      E   \n",
              "88191   ITE00100554  18370117    TMIN         -55    NaN    NaN      E   \n",
              "105082  ITE00100554  18431031    TMIN         100    NaN    NaN      E   \n",
              "113992  ITE00100554  18470426    TMAX         170    NaN    NaN      E   \n",
              "57294   ITE00100554  18230816    TMAX         256    NaN    NaN      E   \n",
              "10758   ITE00100554  17770929    TMAX         225    NaN    NaN      E   \n",
              "10018   ITE00100554  17760924    TMAX         201    NaN    NaN      E   \n",
              "30505   ITE00100554  18030413    TMAX         200    NaN    NaN      E   \n",
              "51074   ITE00100550  18200517    TMIN         199    NaN    NaN      E   \n",
              "117695  ITE00100550  18481107    TMIN          40    NaN    NaN      E   \n",
              "72779   ITE00100550  18300909    PRCP           0    NaN    NaN      E   \n",
              "6517    ITE00100554  17711208    TMAX          88    NaN    NaN      E   \n",
              "93631   ITE00100552  18390316    PRCP         302    NaN    NaN      E   \n",
              "80885   ITE00100550  18340311    TMAX         215    NaN    NaN      E   \n",
              "14793   ITE00100554  17830408    TMIN         103    NaN    NaN      E   \n",
              "38005   ITE00100554  18120912    TMAX         219    NaN    NaN      E   \n",
              "\n",
              "        OBS-TIME COUNTRY    STATION  YEAR  \n",
              "14049        NaN      IT  E00100554  1782  \n",
              "67295        NaN      IT  E00100550  1828  \n",
              "102624       NaN      IT  E00100554  1842  \n",
              "23338        NaN      IT  E00100554  1794  \n",
              "109652       NaN      IT  E00100554  1845  \n",
              "88191        NaN      IT  E00100554  1837  \n",
              "105082       NaN      IT  E00100554  1843  \n",
              "113992       NaN      IT  E00100554  1847  \n",
              "57294        NaN      IT  E00100554  1823  \n",
              "10758        NaN      IT  E00100554  1777  \n",
              "10018        NaN      IT  E00100554  1776  \n",
              "30505        NaN      IT  E00100554  1803  \n",
              "51074        NaN      IT  E00100550  1820  \n",
              "117695       NaN      IT  E00100550  1848  \n",
              "72779        NaN      IT  E00100550  1830  \n",
              "6517         NaN      IT  E00100554  1771  \n",
              "93631        NaN      IT  E00100552  1839  \n",
              "80885        NaN      IT  E00100550  1834  \n",
              "14793        NaN      IT  E00100554  1783  \n",
              "38005        NaN      IT  E00100554  1812  "
            ],
            "text/html": [
              "\n",
              "  <div id=\"df-06530c46-2905-4694-892d-984eaf42c219\" class=\"colab-df-container\">\n",
              "    <div>\n",
              "<style scoped>\n",
              "    .dataframe tbody tr th:only-of-type {\n",
              "        vertical-align: middle;\n",
              "    }\n",
              "\n",
              "    .dataframe tbody tr th {\n",
              "        vertical-align: top;\n",
              "    }\n",
              "\n",
              "    .dataframe thead th {\n",
              "        text-align: right;\n",
              "    }\n",
              "</style>\n",
              "<table border=\"1\" class=\"dataframe\">\n",
              "  <thead>\n",
              "    <tr style=\"text-align: right;\">\n",
              "      <th></th>\n",
              "      <th>ID</th>\n",
              "      <th>DATE</th>\n",
              "      <th>ELEMENT</th>\n",
              "      <th>DATA VALUE</th>\n",
              "      <th>M-FLAG</th>\n",
              "      <th>Q-FLAG</th>\n",
              "      <th>S-FLAG</th>\n",
              "      <th>OBS-TIME</th>\n",
              "      <th>COUNTRY</th>\n",
              "      <th>STATION</th>\n",
              "      <th>YEAR</th>\n",
              "    </tr>\n",
              "  </thead>\n",
              "  <tbody>\n",
              "    <tr>\n",
              "      <th>14049</th>\n",
              "      <td>ITE00100554</td>\n",
              "      <td>17820401</td>\n",
              "      <td>TMIN</td>\n",
              "      <td>81</td>\n",
              "      <td>NaN</td>\n",
              "      <td>NaN</td>\n",
              "      <td>E</td>\n",
              "      <td>NaN</td>\n",
              "      <td>IT</td>\n",
              "      <td>E00100554</td>\n",
              "      <td>1782</td>\n",
              "    </tr>\n",
              "    <tr>\n",
              "      <th>67295</th>\n",
              "      <td>ITE00100550</td>\n",
              "      <td>18280309</td>\n",
              "      <td>PRCP</td>\n",
              "      <td>0</td>\n",
              "      <td>NaN</td>\n",
              "      <td>NaN</td>\n",
              "      <td>E</td>\n",
              "      <td>NaN</td>\n",
              "      <td>IT</td>\n",
              "      <td>E00100550</td>\n",
              "      <td>1828</td>\n",
              "    </tr>\n",
              "    <tr>\n",
              "      <th>102624</th>\n",
              "      <td>ITE00100554</td>\n",
              "      <td>18421114</td>\n",
              "      <td>TMAX</td>\n",
              "      <td>145</td>\n",
              "      <td>NaN</td>\n",
              "      <td>NaN</td>\n",
              "      <td>E</td>\n",
              "      <td>NaN</td>\n",
              "      <td>IT</td>\n",
              "      <td>E00100554</td>\n",
              "      <td>1842</td>\n",
              "    </tr>\n",
              "    <tr>\n",
              "      <th>23338</th>\n",
              "      <td>ITE00100554</td>\n",
              "      <td>17941219</td>\n",
              "      <td>TMAX</td>\n",
              "      <td>0</td>\n",
              "      <td>NaN</td>\n",
              "      <td>NaN</td>\n",
              "      <td>E</td>\n",
              "      <td>NaN</td>\n",
              "      <td>IT</td>\n",
              "      <td>E00100554</td>\n",
              "      <td>1794</td>\n",
              "    </tr>\n",
              "    <tr>\n",
              "      <th>109652</th>\n",
              "      <td>ITE00100554</td>\n",
              "      <td>18450814</td>\n",
              "      <td>TMAX</td>\n",
              "      <td>253</td>\n",
              "      <td>NaN</td>\n",
              "      <td>NaN</td>\n",
              "      <td>E</td>\n",
              "      <td>NaN</td>\n",
              "      <td>IT</td>\n",
              "      <td>E00100554</td>\n",
              "      <td>1845</td>\n",
              "    </tr>\n",
              "    <tr>\n",
              "      <th>88191</th>\n",
              "      <td>ITE00100554</td>\n",
              "      <td>18370117</td>\n",
              "      <td>TMIN</td>\n",
              "      <td>-55</td>\n",
              "      <td>NaN</td>\n",
              "      <td>NaN</td>\n",
              "      <td>E</td>\n",
              "      <td>NaN</td>\n",
              "      <td>IT</td>\n",
              "      <td>E00100554</td>\n",
              "      <td>1837</td>\n",
              "    </tr>\n",
              "    <tr>\n",
              "      <th>105082</th>\n",
              "      <td>ITE00100554</td>\n",
              "      <td>18431031</td>\n",
              "      <td>TMIN</td>\n",
              "      <td>100</td>\n",
              "      <td>NaN</td>\n",
              "      <td>NaN</td>\n",
              "      <td>E</td>\n",
              "      <td>NaN</td>\n",
              "      <td>IT</td>\n",
              "      <td>E00100554</td>\n",
              "      <td>1843</td>\n",
              "    </tr>\n",
              "    <tr>\n",
              "      <th>113992</th>\n",
              "      <td>ITE00100554</td>\n",
              "      <td>18470426</td>\n",
              "      <td>TMAX</td>\n",
              "      <td>170</td>\n",
              "      <td>NaN</td>\n",
              "      <td>NaN</td>\n",
              "      <td>E</td>\n",
              "      <td>NaN</td>\n",
              "      <td>IT</td>\n",
              "      <td>E00100554</td>\n",
              "      <td>1847</td>\n",
              "    </tr>\n",
              "    <tr>\n",
              "      <th>57294</th>\n",
              "      <td>ITE00100554</td>\n",
              "      <td>18230816</td>\n",
              "      <td>TMAX</td>\n",
              "      <td>256</td>\n",
              "      <td>NaN</td>\n",
              "      <td>NaN</td>\n",
              "      <td>E</td>\n",
              "      <td>NaN</td>\n",
              "      <td>IT</td>\n",
              "      <td>E00100554</td>\n",
              "      <td>1823</td>\n",
              "    </tr>\n",
              "    <tr>\n",
              "      <th>10758</th>\n",
              "      <td>ITE00100554</td>\n",
              "      <td>17770929</td>\n",
              "      <td>TMAX</td>\n",
              "      <td>225</td>\n",
              "      <td>NaN</td>\n",
              "      <td>NaN</td>\n",
              "      <td>E</td>\n",
              "      <td>NaN</td>\n",
              "      <td>IT</td>\n",
              "      <td>E00100554</td>\n",
              "      <td>1777</td>\n",
              "    </tr>\n",
              "    <tr>\n",
              "      <th>10018</th>\n",
              "      <td>ITE00100554</td>\n",
              "      <td>17760924</td>\n",
              "      <td>TMAX</td>\n",
              "      <td>201</td>\n",
              "      <td>NaN</td>\n",
              "      <td>NaN</td>\n",
              "      <td>E</td>\n",
              "      <td>NaN</td>\n",
              "      <td>IT</td>\n",
              "      <td>E00100554</td>\n",
              "      <td>1776</td>\n",
              "    </tr>\n",
              "    <tr>\n",
              "      <th>30505</th>\n",
              "      <td>ITE00100554</td>\n",
              "      <td>18030413</td>\n",
              "      <td>TMAX</td>\n",
              "      <td>200</td>\n",
              "      <td>NaN</td>\n",
              "      <td>NaN</td>\n",
              "      <td>E</td>\n",
              "      <td>NaN</td>\n",
              "      <td>IT</td>\n",
              "      <td>E00100554</td>\n",
              "      <td>1803</td>\n",
              "    </tr>\n",
              "    <tr>\n",
              "      <th>51074</th>\n",
              "      <td>ITE00100550</td>\n",
              "      <td>18200517</td>\n",
              "      <td>TMIN</td>\n",
              "      <td>199</td>\n",
              "      <td>NaN</td>\n",
              "      <td>NaN</td>\n",
              "      <td>E</td>\n",
              "      <td>NaN</td>\n",
              "      <td>IT</td>\n",
              "      <td>E00100550</td>\n",
              "      <td>1820</td>\n",
              "    </tr>\n",
              "    <tr>\n",
              "      <th>117695</th>\n",
              "      <td>ITE00100550</td>\n",
              "      <td>18481107</td>\n",
              "      <td>TMIN</td>\n",
              "      <td>40</td>\n",
              "      <td>NaN</td>\n",
              "      <td>NaN</td>\n",
              "      <td>E</td>\n",
              "      <td>NaN</td>\n",
              "      <td>IT</td>\n",
              "      <td>E00100550</td>\n",
              "      <td>1848</td>\n",
              "    </tr>\n",
              "    <tr>\n",
              "      <th>72779</th>\n",
              "      <td>ITE00100550</td>\n",
              "      <td>18300909</td>\n",
              "      <td>PRCP</td>\n",
              "      <td>0</td>\n",
              "      <td>NaN</td>\n",
              "      <td>NaN</td>\n",
              "      <td>E</td>\n",
              "      <td>NaN</td>\n",
              "      <td>IT</td>\n",
              "      <td>E00100550</td>\n",
              "      <td>1830</td>\n",
              "    </tr>\n",
              "    <tr>\n",
              "      <th>6517</th>\n",
              "      <td>ITE00100554</td>\n",
              "      <td>17711208</td>\n",
              "      <td>TMAX</td>\n",
              "      <td>88</td>\n",
              "      <td>NaN</td>\n",
              "      <td>NaN</td>\n",
              "      <td>E</td>\n",
              "      <td>NaN</td>\n",
              "      <td>IT</td>\n",
              "      <td>E00100554</td>\n",
              "      <td>1771</td>\n",
              "    </tr>\n",
              "    <tr>\n",
              "      <th>93631</th>\n",
              "      <td>ITE00100552</td>\n",
              "      <td>18390316</td>\n",
              "      <td>PRCP</td>\n",
              "      <td>302</td>\n",
              "      <td>NaN</td>\n",
              "      <td>NaN</td>\n",
              "      <td>E</td>\n",
              "      <td>NaN</td>\n",
              "      <td>IT</td>\n",
              "      <td>E00100552</td>\n",
              "      <td>1839</td>\n",
              "    </tr>\n",
              "    <tr>\n",
              "      <th>80885</th>\n",
              "      <td>ITE00100550</td>\n",
              "      <td>18340311</td>\n",
              "      <td>TMAX</td>\n",
              "      <td>215</td>\n",
              "      <td>NaN</td>\n",
              "      <td>NaN</td>\n",
              "      <td>E</td>\n",
              "      <td>NaN</td>\n",
              "      <td>IT</td>\n",
              "      <td>E00100550</td>\n",
              "      <td>1834</td>\n",
              "    </tr>\n",
              "    <tr>\n",
              "      <th>14793</th>\n",
              "      <td>ITE00100554</td>\n",
              "      <td>17830408</td>\n",
              "      <td>TMIN</td>\n",
              "      <td>103</td>\n",
              "      <td>NaN</td>\n",
              "      <td>NaN</td>\n",
              "      <td>E</td>\n",
              "      <td>NaN</td>\n",
              "      <td>IT</td>\n",
              "      <td>E00100554</td>\n",
              "      <td>1783</td>\n",
              "    </tr>\n",
              "    <tr>\n",
              "      <th>38005</th>\n",
              "      <td>ITE00100554</td>\n",
              "      <td>18120912</td>\n",
              "      <td>TMAX</td>\n",
              "      <td>219</td>\n",
              "      <td>NaN</td>\n",
              "      <td>NaN</td>\n",
              "      <td>E</td>\n",
              "      <td>NaN</td>\n",
              "      <td>IT</td>\n",
              "      <td>E00100554</td>\n",
              "      <td>1812</td>\n",
              "    </tr>\n",
              "  </tbody>\n",
              "</table>\n",
              "</div>\n",
              "    <div class=\"colab-df-buttons\">\n",
              "\n",
              "  <div class=\"colab-df-container\">\n",
              "    <button class=\"colab-df-convert\" onclick=\"convertToInteractive('df-06530c46-2905-4694-892d-984eaf42c219')\"\n",
              "            title=\"Convert this dataframe to an interactive table.\"\n",
              "            style=\"display:none;\">\n",
              "\n",
              "  <svg xmlns=\"http://www.w3.org/2000/svg\" height=\"24px\" viewBox=\"0 -960 960 960\">\n",
              "    <path d=\"M120-120v-720h720v720H120Zm60-500h600v-160H180v160Zm220 220h160v-160H400v160Zm0 220h160v-160H400v160ZM180-400h160v-160H180v160Zm440 0h160v-160H620v160ZM180-180h160v-160H180v160Zm440 0h160v-160H620v160Z\"/>\n",
              "  </svg>\n",
              "    </button>\n",
              "\n",
              "  <style>\n",
              "    .colab-df-container {\n",
              "      display:flex;\n",
              "      gap: 12px;\n",
              "    }\n",
              "\n",
              "    .colab-df-convert {\n",
              "      background-color: #E8F0FE;\n",
              "      border: none;\n",
              "      border-radius: 50%;\n",
              "      cursor: pointer;\n",
              "      display: none;\n",
              "      fill: #1967D2;\n",
              "      height: 32px;\n",
              "      padding: 0 0 0 0;\n",
              "      width: 32px;\n",
              "    }\n",
              "\n",
              "    .colab-df-convert:hover {\n",
              "      background-color: #E2EBFA;\n",
              "      box-shadow: 0px 1px 2px rgba(60, 64, 67, 0.3), 0px 1px 3px 1px rgba(60, 64, 67, 0.15);\n",
              "      fill: #174EA6;\n",
              "    }\n",
              "\n",
              "    .colab-df-buttons div {\n",
              "      margin-bottom: 4px;\n",
              "    }\n",
              "\n",
              "    [theme=dark] .colab-df-convert {\n",
              "      background-color: #3B4455;\n",
              "      fill: #D2E3FC;\n",
              "    }\n",
              "\n",
              "    [theme=dark] .colab-df-convert:hover {\n",
              "      background-color: #434B5C;\n",
              "      box-shadow: 0px 1px 3px 1px rgba(0, 0, 0, 0.15);\n",
              "      filter: drop-shadow(0px 1px 2px rgba(0, 0, 0, 0.3));\n",
              "      fill: #FFFFFF;\n",
              "    }\n",
              "  </style>\n",
              "\n",
              "    <script>\n",
              "      const buttonEl =\n",
              "        document.querySelector('#df-06530c46-2905-4694-892d-984eaf42c219 button.colab-df-convert');\n",
              "      buttonEl.style.display =\n",
              "        google.colab.kernel.accessAllowed ? 'block' : 'none';\n",
              "\n",
              "      async function convertToInteractive(key) {\n",
              "        const element = document.querySelector('#df-06530c46-2905-4694-892d-984eaf42c219');\n",
              "        const dataTable =\n",
              "          await google.colab.kernel.invokeFunction('convertToInteractive',\n",
              "                                                    [key], {});\n",
              "        if (!dataTable) return;\n",
              "\n",
              "        const docLinkHtml = 'Like what you see? Visit the ' +\n",
              "          '<a target=\"_blank\" href=https://colab.research.google.com/notebooks/data_table.ipynb>data table notebook</a>'\n",
              "          + ' to learn more about interactive tables.';\n",
              "        element.innerHTML = '';\n",
              "        dataTable['output_type'] = 'display_data';\n",
              "        await google.colab.output.renderOutput(dataTable, element);\n",
              "        const docLink = document.createElement('div');\n",
              "        docLink.innerHTML = docLinkHtml;\n",
              "        element.appendChild(docLink);\n",
              "      }\n",
              "    </script>\n",
              "  </div>\n",
              "\n",
              "\n",
              "<div id=\"df-fb35937f-8184-43fa-828b-e8c2749f2ef9\">\n",
              "  <button class=\"colab-df-quickchart\" onclick=\"quickchart('df-fb35937f-8184-43fa-828b-e8c2749f2ef9')\"\n",
              "            title=\"Suggest charts\"\n",
              "            style=\"display:none;\">\n",
              "\n",
              "<svg xmlns=\"http://www.w3.org/2000/svg\" height=\"24px\"viewBox=\"0 0 24 24\"\n",
              "     width=\"24px\">\n",
              "    <g>\n",
              "        <path d=\"M19 3H5c-1.1 0-2 .9-2 2v14c0 1.1.9 2 2 2h14c1.1 0 2-.9 2-2V5c0-1.1-.9-2-2-2zM9 17H7v-7h2v7zm4 0h-2V7h2v10zm4 0h-2v-4h2v4z\"/>\n",
              "    </g>\n",
              "</svg>\n",
              "  </button>\n",
              "\n",
              "<style>\n",
              "  .colab-df-quickchart {\n",
              "      --bg-color: #E8F0FE;\n",
              "      --fill-color: #1967D2;\n",
              "      --hover-bg-color: #E2EBFA;\n",
              "      --hover-fill-color: #174EA6;\n",
              "      --disabled-fill-color: #AAA;\n",
              "      --disabled-bg-color: #DDD;\n",
              "  }\n",
              "\n",
              "  [theme=dark] .colab-df-quickchart {\n",
              "      --bg-color: #3B4455;\n",
              "      --fill-color: #D2E3FC;\n",
              "      --hover-bg-color: #434B5C;\n",
              "      --hover-fill-color: #FFFFFF;\n",
              "      --disabled-bg-color: #3B4455;\n",
              "      --disabled-fill-color: #666;\n",
              "  }\n",
              "\n",
              "  .colab-df-quickchart {\n",
              "    background-color: var(--bg-color);\n",
              "    border: none;\n",
              "    border-radius: 50%;\n",
              "    cursor: pointer;\n",
              "    display: none;\n",
              "    fill: var(--fill-color);\n",
              "    height: 32px;\n",
              "    padding: 0;\n",
              "    width: 32px;\n",
              "  }\n",
              "\n",
              "  .colab-df-quickchart:hover {\n",
              "    background-color: var(--hover-bg-color);\n",
              "    box-shadow: 0 1px 2px rgba(60, 64, 67, 0.3), 0 1px 3px 1px rgba(60, 64, 67, 0.15);\n",
              "    fill: var(--button-hover-fill-color);\n",
              "  }\n",
              "\n",
              "  .colab-df-quickchart-complete:disabled,\n",
              "  .colab-df-quickchart-complete:disabled:hover {\n",
              "    background-color: var(--disabled-bg-color);\n",
              "    fill: var(--disabled-fill-color);\n",
              "    box-shadow: none;\n",
              "  }\n",
              "\n",
              "  .colab-df-spinner {\n",
              "    border: 2px solid var(--fill-color);\n",
              "    border-color: transparent;\n",
              "    border-bottom-color: var(--fill-color);\n",
              "    animation:\n",
              "      spin 1s steps(1) infinite;\n",
              "  }\n",
              "\n",
              "  @keyframes spin {\n",
              "    0% {\n",
              "      border-color: transparent;\n",
              "      border-bottom-color: var(--fill-color);\n",
              "      border-left-color: var(--fill-color);\n",
              "    }\n",
              "    20% {\n",
              "      border-color: transparent;\n",
              "      border-left-color: var(--fill-color);\n",
              "      border-top-color: var(--fill-color);\n",
              "    }\n",
              "    30% {\n",
              "      border-color: transparent;\n",
              "      border-left-color: var(--fill-color);\n",
              "      border-top-color: var(--fill-color);\n",
              "      border-right-color: var(--fill-color);\n",
              "    }\n",
              "    40% {\n",
              "      border-color: transparent;\n",
              "      border-right-color: var(--fill-color);\n",
              "      border-top-color: var(--fill-color);\n",
              "    }\n",
              "    60% {\n",
              "      border-color: transparent;\n",
              "      border-right-color: var(--fill-color);\n",
              "    }\n",
              "    80% {\n",
              "      border-color: transparent;\n",
              "      border-right-color: var(--fill-color);\n",
              "      border-bottom-color: var(--fill-color);\n",
              "    }\n",
              "    90% {\n",
              "      border-color: transparent;\n",
              "      border-bottom-color: var(--fill-color);\n",
              "    }\n",
              "  }\n",
              "</style>\n",
              "\n",
              "  <script>\n",
              "    async function quickchart(key) {\n",
              "      const quickchartButtonEl =\n",
              "        document.querySelector('#' + key + ' button');\n",
              "      quickchartButtonEl.disabled = true;  // To prevent multiple clicks.\n",
              "      quickchartButtonEl.classList.add('colab-df-spinner');\n",
              "      try {\n",
              "        const charts = await google.colab.kernel.invokeFunction(\n",
              "            'suggestCharts', [key], {});\n",
              "      } catch (error) {\n",
              "        console.error('Error during call to suggestCharts:', error);\n",
              "      }\n",
              "      quickchartButtonEl.classList.remove('colab-df-spinner');\n",
              "      quickchartButtonEl.classList.add('colab-df-quickchart-complete');\n",
              "    }\n",
              "    (() => {\n",
              "      let quickchartButtonEl =\n",
              "        document.querySelector('#df-fb35937f-8184-43fa-828b-e8c2749f2ef9 button');\n",
              "      quickchartButtonEl.style.display =\n",
              "        google.colab.kernel.accessAllowed ? 'block' : 'none';\n",
              "    })();\n",
              "  </script>\n",
              "</div>\n",
              "    </div>\n",
              "  </div>\n"
            ],
            "application/vnd.google.colaboratory.intrinsic+json": {
              "type": "dataframe",
              "repr_error": "'str' object has no attribute 'empty'"
            }
          },
          "metadata": {},
          "execution_count": 21
        }
      ]
    },
    {
      "cell_type": "code",
      "source": [
        "italy_df['ELEMENT'].unique()"
      ],
      "metadata": {
        "colab": {
          "base_uri": "https://localhost:8080/"
        },
        "id": "YeNATDjI0Ixg",
        "outputId": "e909ad61-2dcd-4127-f765-3f11e9bb6be1"
      },
      "execution_count": 22,
      "outputs": [
        {
          "output_type": "execute_result",
          "data": {
            "text/plain": [
              "array(['TMIN', 'TMAX', 'PRCP'], dtype=object)"
            ]
          },
          "metadata": {},
          "execution_count": 22
        }
      ]
    },
    {
      "cell_type": "markdown",
      "source": [
        "### Weather Analysis"
      ],
      "metadata": {
        "id": "0rko2TaeBuag"
      }
    },
    {
      "cell_type": "code",
      "source": [
        "def plot_weather_across_years(df):\n",
        "  plot_average_temperature_across_years(df)\n",
        "  plot_average_precipitation_across_years(df)\n",
        "  plot_average_days_of_snow(df)\n",
        "\n",
        "def plot_average_temperature_across_years(df):\n",
        "    temperature_data = df[df['ELEMENT'] == 'TMAX']\n",
        "\n",
        "    # Convert temperature data to Celsius (data is recorded in tenths of Celsius)\n",
        "    temperature_data['Temperature'] = temperature_data['DATA VALUE'] #/ 10\n",
        "    average_temperature = temperature_data.groupby(temperature_data['YEAR'])['Temperature'].mean()\n",
        "    average_temperature\n",
        "\n",
        "    # Plot the average temperature\n",
        "    plt.figure(figsize=(8, 4))\n",
        "    plt.plot(average_temperature, marker='o', linestyle='-', color='skyblue')\n",
        "    plt.title('MAX Temperature Across Years')\n",
        "    plt.xlabel('Year')\n",
        "    plt.ylabel('MAX Temperature (°C)')\n",
        "    plt.grid(True)\n",
        "    plt.show()\n",
        "\n",
        "def plot_average_precipitation_across_years(df):\n",
        "    prcp_data = df[df['ELEMENT'] == 'PRCP']\n",
        "\n",
        "    average_prcp= prcp_data.groupby(prcp_data['YEAR'])['DATA VALUE'].mean()\n",
        "\n",
        "    # Plot the average temperature\n",
        "    plt.figure(figsize=(8, 4))\n",
        "    plt.plot(average_prcp, marker='o', linestyle='-', color='skyblue')\n",
        "    plt.title('Average Precipitation Across Years')\n",
        "    plt.xlabel('Year')\n",
        "    plt.ylabel('Average Precipitaion (tenths of mm)')\n",
        "    plt.grid(True)\n",
        "    plt.show()\n",
        "\n",
        "\n",
        "def plot_average_days_of_snow(df):\n",
        "  #snow_days_per_year = df[df['ELEMENT'] == 'SNOW'].groupby(df['DATE'].dt.year).count()\n",
        "  snow_data = df[df['ELEMENT'] == 'SNOW']\n",
        "\n",
        "  try:\n",
        "    average_snow = snow_data.groupby(snow_data['YEAR'])['DATA VALUE'].mean()\n",
        "\n",
        "    # Plot the number of snow days per year\n",
        "    plt.figure(figsize=(8, 4))\n",
        "    average_snow.plot(kind='bar', color='skyblue')\n",
        "    plt.title('Number of Snow Days per Year')\n",
        "    plt.xlabel('Year')\n",
        "    plt.ylabel('Number of Snow Days')\n",
        "    plt.grid(True)\n",
        "    plt.show()\n",
        "\n",
        "  except:\n",
        "    print('No snow')"
      ],
      "metadata": {
        "id": "cTlkIOiaBwWB"
      },
      "execution_count": 32,
      "outputs": []
    },
    {
      "cell_type": "code",
      "source": [
        "plot_weather_across_years(italy_df)"
      ],
      "metadata": {
        "id": "9cOITmt9W1Ly",
        "colab": {
          "base_uri": "https://localhost:8080/",
          "height": 1000
        },
        "outputId": "ef22961f-0eb2-4639-e023-45840a63114c"
      },
      "execution_count": 33,
      "outputs": [
        {
          "output_type": "stream",
          "name": "stderr",
          "text": [
            "<ipython-input-32-5dfa700ba4ca>:10: SettingWithCopyWarning: \n",
            "A value is trying to be set on a copy of a slice from a DataFrame.\n",
            "Try using .loc[row_indexer,col_indexer] = value instead\n",
            "\n",
            "See the caveats in the documentation: https://pandas.pydata.org/pandas-docs/stable/user_guide/indexing.html#returning-a-view-versus-a-copy\n",
            "  temperature_data['Temperature'] = temperature_data['DATA VALUE'] #/ 10\n"
          ]
        },
        {
          "output_type": "display_data",
          "data": {
            "text/plain": [
              "<Figure size 800x400 with 1 Axes>"
            ],
            "image/png": "[encoded data removed]"
          },
          "metadata": {}
        },
        {
          "output_type": "display_data",
          "data": {
            "text/plain": [
              "<Figure size 800x400 with 1 Axes>"
            ],
            "image/png": "[encoded data removed]"
          },
          "metadata": {}
        },
        {
          "output_type": "stream",
          "name": "stdout",
          "text": [
            "No snow\n"
          ]
        },
        {
          "output_type": "display_data",
          "data": {
            "text/plain": [
              "<Figure size 800x400 with 1 Axes>"
            ],
            "image/png": "[encoded data removed]"
          },
          "metadata": {}
        }
      ]
    },
    {
      "cell_type": "markdown",
      "source": [
        "## CANADA"
      ],
      "metadata": {
        "id": "BA9XmocWzjFU"
      }
    },
    {
      "cell_type": "code",
      "source": [
        "canada_df = load_country('CA', 1840, 1850)"
      ],
      "metadata": {
        "id": "oyq3c8rzzksB",
        "colab": {
          "base_uri": "https://localhost:8080/"
        },
        "outputId": "61dce80e-d637-4125-a5e7-8e161aa97b8d"
      },
      "execution_count": 25,
      "outputs": [
        {
          "output_type": "stream",
          "name": "stdout",
          "text": [
            "Number of files processed: 11\n"
          ]
        }
      ]
    },
    {
      "cell_type": "code",
      "source": [
        "plot_weather_across_years(canada_df)"
      ],
      "metadata": {
        "id": "RIyUmQRwz0kG",
        "colab": {
          "base_uri": "https://localhost:8080/",
          "height": 1000
        },
        "outputId": "6c6dbe47-f7fb-47fd-840c-32b98453856e"
      },
      "execution_count": 34,
      "outputs": [
        {
          "output_type": "stream",
          "name": "stderr",
          "text": [
            "<ipython-input-32-5dfa700ba4ca>:10: SettingWithCopyWarning: \n",
            "A value is trying to be set on a copy of a slice from a DataFrame.\n",
            "Try using .loc[row_indexer,col_indexer] = value instead\n",
            "\n",
            "See the caveats in the documentation: https://pandas.pydata.org/pandas-docs/stable/user_guide/indexing.html#returning-a-view-versus-a-copy\n",
            "  temperature_data['Temperature'] = temperature_data['DATA VALUE'] #/ 10\n"
          ]
        },
        {
          "output_type": "display_data",
          "data": {
            "text/plain": [
              "<Figure size 800x400 with 1 Axes>"
            ],
            "image/png": "[encoded data removed]"
          },
          "metadata": {}
        },
        {
          "output_type": "display_data",
          "data": {
            "text/plain": [
              "<Figure size 800x400 with 1 Axes>"
            ],
            "image/png": "[encoded data removed]"
          },
          "metadata": {}
        },
        {
          "output_type": "display_data",
          "data": {
            "text/plain": [
              "<Figure size 800x400 with 1 Axes>"
            ],
            "image/png": "[encoded data removed]"
          },
          "metadata": {}
        }
      ]
    },
    {
      "cell_type": "markdown",
      "metadata": {
        "id": "m06KzRi3ne4h"
      },
      "source": [
        "__________"
      ]
    },
    {
      "cell_type": "markdown",
      "metadata": {
        "id": "eoM-oWESSJcV"
      },
      "source": [
        "## OLD"
      ]
    },
    {
      "cell_type": "code",
      "source": [
        "yapper"
      ],
      "metadata": {
        "id": "PMO7mTt2Bo00",
        "colab": {
          "base_uri": "https://localhost:8080/",
          "height": 141
        },
        "outputId": "3fe93279-dc33-4d9d-c00e-5c1361521877"
      },
      "execution_count": 27,
      "outputs": [
        {
          "output_type": "error",
          "ename": "NameError",
          "evalue": "name 'yapper' is not defined",
          "traceback": [
            "\u001b[0;31m---------------------------------------------------------------------------\u001b[0m",
            "\u001b[0;31mNameError\u001b[0m                                 Traceback (most recent call last)",
            "\u001b[0;32m<ipython-input-27-fa57b7479512>\u001b[0m in \u001b[0;36m<cell line: 1>\u001b[0;34m()\u001b[0m\n\u001b[0;32m----> 1\u001b[0;31m \u001b[0myapper\u001b[0m\u001b[0;34m\u001b[0m\u001b[0;34m\u001b[0m\u001b[0m\n\u001b[0m",
            "\u001b[0;31mNameError\u001b[0m: name 'yapper' is not defined"
          ]
        }
      ]
    },
    {
      "cell_type": "code",
      "source": [
        "# Get a list of all files in the current directory\n",
        "files = glob.glob('*')\n",
        "\n",
        "# Iterate over the list of files and delete each one\n",
        "for file in files:\n",
        "  try:\n",
        "    os.remove(file)\n",
        "  except:\n",
        "    print('File could not be deleted')"
      ],
      "metadata": {
        "id": "M0lqBzP4BW1n"
      },
      "execution_count": null,
      "outputs": []
    },
    {
      "cell_type": "code",
      "execution_count": null,
      "metadata": {
        "id": "4XYG_6KjSKdt"
      },
      "outputs": [],
      "source": [
        "s3_client = boto3.client('s3', config=Config(signature_version=UNSIGNED))\n",
        "s3_resource = boto3.resource(\"s3\", config=Config(signature_version=UNSIGNED))\n",
        "bucket = s3_resource.Bucket('noaa-ghcn-pds')"
      ]
    },
    {
      "cell_type": "code",
      "execution_count": null,
      "metadata": {
        "id": "cWXKRh92ne4f"
      },
      "outputs": [],
      "source": [
        "for obj in bucket.objects.all():\n",
        "    # Download the files for Italian stations.\n",
        "    if 'by_station/IT' in obj.key:\n",
        "        _, filename = os.path.split(obj.key)\n",
        "        local_path = data_root + filename\n",
        "        if not os.path.isfile(local_path):\n",
        "            s3_client.download_file('noaa-ghcn-pds', obj.key, local_path)\n",
        "            #print(f'{filename} downloaded')\n",
        "        else:\n",
        "            print(f'{filename} already exists')\n",
        "    # Stop the iteration after stations in Italy.\n",
        "    if 'by_station/IV' in obj.key:\n",
        "        break\n",
        "\n",
        "print(\"All files downloaded.\")"
      ]
    }
  ],
  "metadata": {
    "colab": {
      "provenance": [],
      "collapsed_sections": [
        "5Qq6udIAne4c"
      ],
      "gpuType": "T4"
    },
    "kernelspec": {
      "display_name": "Python 3",
      "name": "python3"
    },
    "language_info": {
      "name": "python"
    },
    "accelerator": "GPU"
  },
  "nbformat": 4,
  "nbformat_minor": 0
}