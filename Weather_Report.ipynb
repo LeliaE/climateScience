{
  "cells": [
    {
      "cell_type": "markdown",
      "metadata": {},
      "source": [
        "# Mission"
      ]
    },
    {
      "cell_type": "markdown",
      "metadata": {},
      "source": [
        "Our dataset contains daily observations of station-based measurements worldwide. \n",
        "\n",
        "We have chosen to look into stations in Italy, which has the oldest records, with another country to identy contrasts.\n",
        "By looking into the precipitation data, we aim to gain insights in climate change, and understand the fluctuations."
      ]
    },
    {
      "cell_type": "markdown",
      "metadata": {},
      "source": [
        "__________"
      ]
    },
    {
      "cell_type": "markdown",
      "metadata": {
        "id": "6-4vHgek1i5R"
      },
      "source": [
        "# Imports"
      ]
    },
    {
      "cell_type": "code",
      "execution_count": 5,
      "metadata": {
        "id": "wmlaQN1T1kjN"
      },
      "outputs": [],
      "source": [
        "import os\n",
        "import pandas as pd\n",
        "\n",
        "# AWS Bucket interaction\n",
        "import boto3\n",
        "from botocore import UNSIGNED\n",
        "from botocore.config import Config\n",
        "\n",
        "# Visualization\n",
        "import matplotlib"
      ]
    },
    {
      "cell_type": "markdown",
      "metadata": {},
      "source": [
        "___________"
      ]
    },
    {
      "cell_type": "markdown",
      "metadata": {
        "id": "rwTavRD81lgO"
      },
      "source": [
        "# Data Download"
      ]
    },
    {
      "cell_type": "markdown",
      "metadata": {},
      "source": [
        "The data can is located in an AWS bucket. An overview of the bucket can be found here: http://noaa-ghcn-pds.s3.amazonaws.com/\n",
        "\n",
        "This part of the notebook connects to the bucket, checks if the desired files are present in the local path, and downloads them if they are not."
      ]
    },
    {
      "cell_type": "markdown",
      "metadata": {},
      "source": [
        "### Setup Bucket connection"
      ]
    },
    {
      "cell_type": "code",
      "execution_count": 6,
      "metadata": {},
      "outputs": [],
      "source": [
        "s3_client = boto3.client('s3', config=Config(signature_version=UNSIGNED))\n",
        "s3_resource = boto3.resource(\"s3\", config=Config(signature_version=UNSIGNED))\n",
        "bucket = s3_resource.Bucket('noaa-ghcn-pds')"
      ]
    },
    {
      "cell_type": "markdown",
      "metadata": {},
      "source": [
        "### Download files"
      ]
    },
    {
      "cell_type": "markdown",
      "metadata": {},
      "source": [
        "There are two types of files in the bucket: one `.csv` per year between 1763 and 2022 (e.g. `csv.gz/2019.csv.gz`), and one `.csv` per station (e.g. `csv.gz/by_station/AGE00147713.csv.gz`). The prefix of the `by_station` ID (such as \"AGE00147713\") indicates the country, whereas one country can have multiple prefixes (e.g. \"IT\", \"ITE\", \"ITM\" and \"ITW\" for Italy). \n",
        "\n",
        "The yearly files combine the data of all stations which have datapoints for that year, and the ones per station combine all the years for which data was recorded for that station. Since we are only interested in the stations in Italy, we only download the files which have `by_station` and \"IT\" in the URL. This will also include Italy's other prefixes.\n",
        "\n",
        "As the files in the bucket are sorted (yearly files first, files per station after in alphabetical order), the iteration stops after the first element that has `by_station/IV` in its key, which is the next country prefix after Italy."
      ]
    },
    {
      "cell_type": "code",
      "execution_count": 7,
      "metadata": {},
      "outputs": [],
      "source": [
        "# Change local path depending on where data will be downloaded to\n",
        "data_root = 'LOCAL_PATH'"
      ]
    },
    {
      "cell_type": "code",
      "execution_count": 8,
      "metadata": {
        "colab": {
          "base_uri": "https://localhost:8080/"
        },
        "id": "e2ACcmU2BR34",
        "outputId": "8d56de08-a52e-4ebb-f26a-59c729768ef7"
      },
      "outputs": [
        {
          "name": "stdout",
          "output_type": "stream",
          "text": [
            "IT000016090.csv.gz downloaded\n",
            "IT000016134.csv.gz downloaded\n",
            "IT000016232.csv.gz downloaded\n",
            "IT000016239.csv.gz downloaded\n",
            "IT000016320.csv.gz downloaded\n",
            "IT000016550.csv.gz downloaded\n",
            "IT000016560.csv.gz downloaded\n",
            "IT000160220.csv.gz downloaded\n",
            "IT000162240.csv.gz downloaded\n",
            "IT000162580.csv.gz downloaded\n",
            "ITE00100550.csv.gz downloaded\n",
            "ITE00100551.csv.gz downloaded\n",
            "ITE00100552.csv.gz downloaded\n",
            "ITE00100553.csv.gz downloaded\n",
            "ITE00100554.csv.gz downloaded\n",
            "ITE00105250.csv.gz downloaded\n",
            "ITE00115584.csv.gz downloaded\n",
            "ITE00115588.csv.gz downloaded\n",
            "ITE00155336.csv.gz downloaded\n",
            "ITE00155337.csv.gz downloaded\n",
            "ITE00155338.csv.gz downloaded\n",
            "ITE00155339.csv.gz downloaded\n",
            "ITE00155340.csv.gz downloaded\n",
            "ITE00155341.csv.gz downloaded\n",
            "ITE00155342.csv.gz downloaded\n",
            "ITE00155343.csv.gz downloaded\n",
            "ITE00155344.csv.gz downloaded\n",
            "ITE00155345.csv.gz downloaded\n",
            "ITE00155346.csv.gz downloaded\n",
            "ITE00155347.csv.gz downloaded\n",
            "ITE00155348.csv.gz downloaded\n",
            "ITE00155349.csv.gz downloaded\n",
            "ITE00155350.csv.gz downloaded\n",
            "ITE00155351.csv.gz downloaded\n",
            "ITE00155352.csv.gz downloaded\n",
            "ITE00155353.csv.gz downloaded\n",
            "ITE00155354.csv.gz downloaded\n",
            "ITE00155355.csv.gz downloaded\n",
            "ITE00155356.csv.gz downloaded\n",
            "ITE00155357.csv.gz downloaded\n",
            "ITE00155358.csv.gz downloaded\n",
            "ITE00155359.csv.gz downloaded\n",
            "ITE00155360.csv.gz downloaded\n",
            "ITE00155361.csv.gz downloaded\n",
            "ITE00155362.csv.gz downloaded\n",
            "ITE00155363.csv.gz downloaded\n",
            "ITE00155364.csv.gz downloaded\n",
            "ITE00155365.csv.gz downloaded\n",
            "ITE00155366.csv.gz downloaded\n",
            "ITE00155367.csv.gz downloaded\n",
            "ITE00155368.csv.gz downloaded\n",
            "ITE00155369.csv.gz downloaded\n",
            "ITE00155370.csv.gz downloaded\n",
            "ITE00155371.csv.gz downloaded\n",
            "ITE00155372.csv.gz downloaded\n",
            "ITE00155373.csv.gz downloaded\n",
            "ITE00155374.csv.gz downloaded\n",
            "ITE00155375.csv.gz downloaded\n",
            "ITE00155376.csv.gz downloaded\n",
            "ITE00155377.csv.gz downloaded\n",
            "ITE00155378.csv.gz downloaded\n",
            "ITE00155379.csv.gz downloaded\n",
            "ITE00155380.csv.gz downloaded\n",
            "ITE00155381.csv.gz downloaded\n",
            "ITE00155382.csv.gz downloaded\n",
            "ITE00155383.csv.gz downloaded\n",
            "ITE00155384.csv.gz downloaded\n",
            "ITE00155385.csv.gz downloaded\n",
            "ITM00016008.csv.gz downloaded\n",
            "ITM00016033.csv.gz downloaded\n",
            "ITM00016045.csv.gz downloaded\n",
            "ITM00016052.csv.gz downloaded\n",
            "ITM00016061.csv.gz downloaded\n",
            "ITM00016064.csv.gz downloaded\n",
            "ITM00016088.csv.gz downloaded\n",
            "ITM00016098.csv.gz downloaded\n",
            "ITM00016110.csv.gz downloaded\n",
            "ITM00016148.csv.gz downloaded\n",
            "ITM00016149.csv.gz downloaded\n",
            "ITM00016153.csv.gz downloaded\n",
            "ITM00016158.csv.gz downloaded\n",
            "ITM00016179.csv.gz downloaded\n",
            "ITM00016206.csv.gz downloaded\n",
            "ITM00016219.csv.gz downloaded\n",
            "ITM00016245.csv.gz downloaded\n",
            "ITM00016252.csv.gz downloaded\n",
            "ITM00016253.csv.gz downloaded\n",
            "ITM00016280.csv.gz downloaded\n",
            "ITM00016310.csv.gz downloaded\n",
            "ITM00016325.csv.gz downloaded\n",
            "ITM00016344.csv.gz downloaded\n",
            "ITM00016360.csv.gz downloaded\n",
            "ITM00016400.csv.gz downloaded\n",
            "ITM00016410.csv.gz downloaded\n",
            "ITM00016420.csv.gz downloaded\n",
            "ITM00016429.csv.gz downloaded\n",
            "ITM00016450.csv.gz downloaded\n",
            "ITM00016480.csv.gz downloaded\n",
            "ITM00016522.csv.gz downloaded\n",
            "ITM00016546.csv.gz downloaded\n",
            "ITW00033126.csv.gz downloaded\n",
            "ITW00034113.csv.gz downloaded\n",
            "ITW00034187.csv.gz downloaded\n",
            "ITW00034194.csv.gz downloaded\n"
          ]
        }
      ],
      "source": [
        "for obj in bucket.objects.all():\n",
        "    # Download the files for Italian stations.\n",
        "    if 'by_station/IT' in obj.key:\n",
        "        _, filename = os.path.split(obj.key)\n",
        "        local_path = data_root + filename\n",
        "        if not os.path.isfile(local_path):\n",
        "            s3_client.download_file('noaa-ghcn-pds', obj.key, local_path)\n",
        "            print(f'{filename} downloaded')\n",
        "        else:\n",
        "            print(f'{filename} already exists')\n",
        "    # Stop the iteration after stations in Italy.\n",
        "    if 'by_station/IV' in obj.key:\n",
        "        break"
      ]
    },
    {
      "cell_type": "markdown",
      "metadata": {},
      "source": [
        "_________"
      ]
    },
    {
      "cell_type": "markdown",
      "metadata": {},
      "source": [
        "# Data Analysis"
      ]
    },
    {
      "cell_type": "code",
      "execution_count": 9,
      "metadata": {},
      "outputs": [],
      "source": [
        "column_names = ['ID', 'DATE', 'ELEMENT', 'DATA VALUE', 'M-FLAG', 'Q-FLAG', 'S-FLAG', 'OBS-TIME']"
      ]
    },
    {
      "cell_type": "markdown",
      "metadata": {},
      "source": [
        "### Load file"
      ]
    },
    {
      "cell_type": "code",
      "execution_count": 10,
      "metadata": {},
      "outputs": [],
      "source": [
        "def load_df(station):\n",
        "    df = pd.read_csv(data_root + station + '.csv.gz', header = 0, names = column_names)\n",
        "    return df"
      ]
    },
    {
      "cell_type": "code",
      "execution_count": 11,
      "metadata": {},
      "outputs": [],
      "source": [
        "df = load_df('IT000016090')"
      ]
    },
    {
      "cell_type": "code",
      "execution_count": 12,
      "metadata": {},
      "outputs": [
        {
          "data": {
            "text/html": [
              "<div>\n",
              "<style scoped>\n",
              "    .dataframe tbody tr th:only-of-type {\n",
              "        vertical-align: middle;\n",
              "    }\n",
              "\n",
              "    .dataframe tbody tr th {\n",
              "        vertical-align: top;\n",
              "    }\n",
              "\n",
              "    .dataframe thead th {\n",
              "        text-align: right;\n",
              "    }\n",
              "</style>\n",
              "<table border=\"1\" class=\"dataframe\">\n",
              "  <thead>\n",
              "    <tr style=\"text-align: right;\">\n",
              "      <th></th>\n",
              "      <th>ID</th>\n",
              "      <th>DATE</th>\n",
              "      <th>ELEMENT</th>\n",
              "      <th>DATA VALUE</th>\n",
              "      <th>M-FLAG</th>\n",
              "      <th>Q-FLAG</th>\n",
              "      <th>S-FLAG</th>\n",
              "      <th>OBS-TIME</th>\n",
              "    </tr>\n",
              "  </thead>\n",
              "  <tbody>\n",
              "    <tr>\n",
              "      <th>0</th>\n",
              "      <td>IT000016090</td>\n",
              "      <td>19450519</td>\n",
              "      <td>TAVG</td>\n",
              "      <td>252</td>\n",
              "      <td>H</td>\n",
              "      <td>NaN</td>\n",
              "      <td>S</td>\n",
              "      <td>NaN</td>\n",
              "    </tr>\n",
              "    <tr>\n",
              "      <th>1</th>\n",
              "      <td>IT000016090</td>\n",
              "      <td>19450520</td>\n",
              "      <td>TAVG</td>\n",
              "      <td>255</td>\n",
              "      <td>H</td>\n",
              "      <td>NaN</td>\n",
              "      <td>S</td>\n",
              "      <td>NaN</td>\n",
              "    </tr>\n",
              "    <tr>\n",
              "      <th>2</th>\n",
              "      <td>IT000016090</td>\n",
              "      <td>19450521</td>\n",
              "      <td>TAVG</td>\n",
              "      <td>249</td>\n",
              "      <td>H</td>\n",
              "      <td>NaN</td>\n",
              "      <td>S</td>\n",
              "      <td>NaN</td>\n",
              "    </tr>\n",
              "    <tr>\n",
              "      <th>3</th>\n",
              "      <td>IT000016090</td>\n",
              "      <td>19450522</td>\n",
              "      <td>TAVG</td>\n",
              "      <td>218</td>\n",
              "      <td>H</td>\n",
              "      <td>NaN</td>\n",
              "      <td>S</td>\n",
              "      <td>NaN</td>\n",
              "    </tr>\n",
              "    <tr>\n",
              "      <th>4</th>\n",
              "      <td>IT000016090</td>\n",
              "      <td>19450523</td>\n",
              "      <td>TAVG</td>\n",
              "      <td>185</td>\n",
              "      <td>H</td>\n",
              "      <td>NaN</td>\n",
              "      <td>S</td>\n",
              "      <td>NaN</td>\n",
              "    </tr>\n",
              "    <tr>\n",
              "      <th>...</th>\n",
              "      <td>...</td>\n",
              "      <td>...</td>\n",
              "      <td>...</td>\n",
              "      <td>...</td>\n",
              "      <td>...</td>\n",
              "      <td>...</td>\n",
              "      <td>...</td>\n",
              "      <td>...</td>\n",
              "    </tr>\n",
              "    <tr>\n",
              "      <th>93123</th>\n",
              "      <td>IT000016090</td>\n",
              "      <td>20240216</td>\n",
              "      <td>TAVG</td>\n",
              "      <td>75</td>\n",
              "      <td>H</td>\n",
              "      <td>NaN</td>\n",
              "      <td>S</td>\n",
              "      <td>NaN</td>\n",
              "    </tr>\n",
              "    <tr>\n",
              "      <th>93124</th>\n",
              "      <td>IT000016090</td>\n",
              "      <td>20240217</td>\n",
              "      <td>TAVG</td>\n",
              "      <td>84</td>\n",
              "      <td>H</td>\n",
              "      <td>NaN</td>\n",
              "      <td>S</td>\n",
              "      <td>NaN</td>\n",
              "    </tr>\n",
              "    <tr>\n",
              "      <th>93125</th>\n",
              "      <td>IT000016090</td>\n",
              "      <td>20240218</td>\n",
              "      <td>TAVG</td>\n",
              "      <td>94</td>\n",
              "      <td>H</td>\n",
              "      <td>NaN</td>\n",
              "      <td>S</td>\n",
              "      <td>NaN</td>\n",
              "    </tr>\n",
              "    <tr>\n",
              "      <th>93126</th>\n",
              "      <td>IT000016090</td>\n",
              "      <td>20240219</td>\n",
              "      <td>TAVG</td>\n",
              "      <td>101</td>\n",
              "      <td>H</td>\n",
              "      <td>NaN</td>\n",
              "      <td>S</td>\n",
              "      <td>NaN</td>\n",
              "    </tr>\n",
              "    <tr>\n",
              "      <th>93127</th>\n",
              "      <td>IT000016090</td>\n",
              "      <td>20240220</td>\n",
              "      <td>TAVG</td>\n",
              "      <td>107</td>\n",
              "      <td>H</td>\n",
              "      <td>NaN</td>\n",
              "      <td>S</td>\n",
              "      <td>NaN</td>\n",
              "    </tr>\n",
              "  </tbody>\n",
              "</table>\n",
              "<p>93128 rows × 8 columns</p>\n",
              "</div>"
            ],
            "text/plain": [
              "                ID      DATE ELEMENT  DATA VALUE M-FLAG Q-FLAG S-FLAG  \\\n",
              "0      IT000016090  19450519    TAVG         252      H    NaN      S   \n",
              "1      IT000016090  19450520    TAVG         255      H    NaN      S   \n",
              "2      IT000016090  19450521    TAVG         249      H    NaN      S   \n",
              "3      IT000016090  19450522    TAVG         218      H    NaN      S   \n",
              "4      IT000016090  19450523    TAVG         185      H    NaN      S   \n",
              "...            ...       ...     ...         ...    ...    ...    ...   \n",
              "93123  IT000016090  20240216    TAVG          75      H    NaN      S   \n",
              "93124  IT000016090  20240217    TAVG          84      H    NaN      S   \n",
              "93125  IT000016090  20240218    TAVG          94      H    NaN      S   \n",
              "93126  IT000016090  20240219    TAVG         101      H    NaN      S   \n",
              "93127  IT000016090  20240220    TAVG         107      H    NaN      S   \n",
              "\n",
              "       OBS-TIME  \n",
              "0           NaN  \n",
              "1           NaN  \n",
              "2           NaN  \n",
              "3           NaN  \n",
              "4           NaN  \n",
              "...         ...  \n",
              "93123       NaN  \n",
              "93124       NaN  \n",
              "93125       NaN  \n",
              "93126       NaN  \n",
              "93127       NaN  \n",
              "\n",
              "[93128 rows x 8 columns]"
            ]
          },
          "execution_count": 12,
          "metadata": {},
          "output_type": "execute_result"
        }
      ],
      "source": [
        "df"
      ]
    }
  ],
  "metadata": {
    "colab": {
      "provenance": []
    },
    "kernelspec": {
      "display_name": "Python 3",
      "name": "python3"
    },
    "language_info": {
      "codemirror_mode": {
        "name": "ipython",
        "version": 3
      },
      "file_extension": ".py",
      "mimetype": "text/x-python",
      "name": "python",
      "nbconvert_exporter": "python",
      "pygments_lexer": "ipython3",
      "version": "3.8.10"
    }
  },
  "nbformat": 4,
  "nbformat_minor": 0
}
