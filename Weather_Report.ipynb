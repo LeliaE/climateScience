{
  "cells": [
    {
      "cell_type": "markdown",
      "metadata": {
        "id": "6-4vHgek1i5R"
      },
      "source": [
        "# Imports"
      ]
    },
    {
      "cell_type": "code",
      "execution_count": 7,
      "metadata": {
        "id": "wmlaQN1T1kjN"
      },
      "outputs": [],
      "source": [
        "import os\n",
        "import pandas as pd\n",
        "import boto3\n",
        "from botocore import UNSIGNED\n",
        "from botocore.config import Config"
      ]
    },
    {
      "cell_type": "markdown",
      "metadata": {},
      "source": [
        "# Constants"
      ]
    },
    {
      "cell_type": "code",
      "execution_count": 18,
      "metadata": {},
      "outputs": [],
      "source": [
        "# Change path depending on where data is located\n",
        "data_root = 'LOCAL_PATH_TO_DATA'\n",
        "column_names = ['ID', 'DATE', 'ELEMENT', 'DATA VALUE', 'M-FLAG', 'Q-FLAG', 'S-FLAG', 'OBS-TIME']"
      ]
    },
    {
      "cell_type": "markdown",
      "metadata": {
        "id": "rwTavRD81lgO"
      },
      "source": [
        "# Data"
      ]
    },
    {
      "cell_type": "markdown",
      "metadata": {},
      "source": [
        "### Setup Bucket connection"
      ]
    },
    {
      "cell_type": "code",
      "execution_count": 3,
      "metadata": {},
      "outputs": [],
      "source": [
        "s3_client = boto3.client('s3', config=Config(signature_version=UNSIGNED))\n",
        "s3_resource = boto3.resource(\"s3\", config=Config(signature_version=UNSIGNED))\n",
        "bucket = s3_resource.Bucket('noaa-ghcn-pds')"
      ]
    },
    {
      "cell_type": "markdown",
      "metadata": {},
      "source": [
        "### Download files in batches"
      ]
    },
    {
      "cell_type": "code",
      "execution_count": 6,
      "metadata": {},
      "outputs": [
        {
          "name": "stdout",
          "output_type": "stream",
          "text": [
            "Number of yearly files:  260\n"
          ]
        }
      ],
      "source": [
        "size = 0\n",
        "for obj in bucket.objects.all(): \n",
        "    if 'by_station' not in obj.key: \n",
        "        size += 1 \n",
        "    else:\n",
        "        break\n",
        "\n",
        "print('Number of yearly files: ', size)"
      ]
    },
    {
      "cell_type": "code",
      "execution_count": 26,
      "metadata": {
        "colab": {
          "base_uri": "https://localhost:8080/"
        },
        "id": "e2ACcmU2BR34",
        "outputId": "8d56de08-a52e-4ebb-f26a-59c729768ef7"
      },
      "outputs": [],
      "source": [
        "for obj in bucket.objects.all():\n",
        "    if 'by_station' not in obj.key:\n",
        "        _, filename = os.path.split(obj.key)\n",
        "        local_path = data_root + filename\n",
        "        if not os.path.isfile(local_path):\n",
        "            print(filename, ' downloaded')\n",
        "            s3_client.download_file('noaa-ghcn-pds', obj.key, local_path)\n",
        "    else:\n",
        "        break"
      ]
    },
    {
      "cell_type": "markdown",
      "metadata": {},
      "source": [
        "### Load file"
      ]
    },
    {
      "cell_type": "code",
      "execution_count": 27,
      "metadata": {},
      "outputs": [],
      "source": [
        "def load_df(year):\n",
        "    df = pd.read_csv(data_root + str(year) + '.csv.gz', header = 0, names = column_names)\n",
        "    return df"
      ]
    },
    {
      "cell_type": "code",
      "execution_count": 28,
      "metadata": {},
      "outputs": [
        {
          "data": {
            "text/html": [
              "<div>\n",
              "<style scoped>\n",
              "    .dataframe tbody tr th:only-of-type {\n",
              "        vertical-align: middle;\n",
              "    }\n",
              "\n",
              "    .dataframe tbody tr th {\n",
              "        vertical-align: top;\n",
              "    }\n",
              "\n",
              "    .dataframe thead th {\n",
              "        text-align: right;\n",
              "    }\n",
              "</style>\n",
              "<table border=\"1\" class=\"dataframe\">\n",
              "  <thead>\n",
              "    <tr style=\"text-align: right;\">\n",
              "      <th></th>\n",
              "      <th>ID</th>\n",
              "      <th>DATE</th>\n",
              "      <th>ELEMENT</th>\n",
              "      <th>DATA VALUE</th>\n",
              "      <th>M-FLAG</th>\n",
              "      <th>Q-FLAG</th>\n",
              "      <th>S-FLAG</th>\n",
              "      <th>OBS-TIME</th>\n",
              "    </tr>\n",
              "  </thead>\n",
              "  <tbody>\n",
              "    <tr>\n",
              "      <th>0</th>\n",
              "      <td>AGE00135039</td>\n",
              "      <td>18870101</td>\n",
              "      <td>TMIN</td>\n",
              "      <td>50</td>\n",
              "      <td>NaN</td>\n",
              "      <td>NaN</td>\n",
              "      <td>E</td>\n",
              "      <td>NaN</td>\n",
              "    </tr>\n",
              "    <tr>\n",
              "      <th>1</th>\n",
              "      <td>AGE00135039</td>\n",
              "      <td>18870101</td>\n",
              "      <td>PRCP</td>\n",
              "      <td>0</td>\n",
              "      <td>NaN</td>\n",
              "      <td>NaN</td>\n",
              "      <td>E</td>\n",
              "      <td>NaN</td>\n",
              "    </tr>\n",
              "    <tr>\n",
              "      <th>2</th>\n",
              "      <td>AGE00147705</td>\n",
              "      <td>18870101</td>\n",
              "      <td>TMAX</td>\n",
              "      <td>120</td>\n",
              "      <td>NaN</td>\n",
              "      <td>NaN</td>\n",
              "      <td>E</td>\n",
              "      <td>NaN</td>\n",
              "    </tr>\n",
              "    <tr>\n",
              "      <th>3</th>\n",
              "      <td>AGE00147705</td>\n",
              "      <td>18870101</td>\n",
              "      <td>TMIN</td>\n",
              "      <td>36</td>\n",
              "      <td>NaN</td>\n",
              "      <td>NaN</td>\n",
              "      <td>E</td>\n",
              "      <td>NaN</td>\n",
              "    </tr>\n",
              "    <tr>\n",
              "      <th>4</th>\n",
              "      <td>AGE00147705</td>\n",
              "      <td>18870101</td>\n",
              "      <td>PRCP</td>\n",
              "      <td>72</td>\n",
              "      <td>NaN</td>\n",
              "      <td>NaN</td>\n",
              "      <td>E</td>\n",
              "      <td>NaN</td>\n",
              "    </tr>\n",
              "    <tr>\n",
              "      <th>...</th>\n",
              "      <td>...</td>\n",
              "      <td>...</td>\n",
              "      <td>...</td>\n",
              "      <td>...</td>\n",
              "      <td>...</td>\n",
              "      <td>...</td>\n",
              "      <td>...</td>\n",
              "      <td>...</td>\n",
              "    </tr>\n",
              "    <tr>\n",
              "      <th>1013681</th>\n",
              "      <td>USW00094728</td>\n",
              "      <td>18871231</td>\n",
              "      <td>TMIN</td>\n",
              "      <td>-111</td>\n",
              "      <td>NaN</td>\n",
              "      <td>NaN</td>\n",
              "      <td>0</td>\n",
              "      <td>NaN</td>\n",
              "    </tr>\n",
              "    <tr>\n",
              "      <th>1013682</th>\n",
              "      <td>USW00094728</td>\n",
              "      <td>18871231</td>\n",
              "      <td>PRCP</td>\n",
              "      <td>48</td>\n",
              "      <td>NaN</td>\n",
              "      <td>NaN</td>\n",
              "      <td>0</td>\n",
              "      <td>NaN</td>\n",
              "    </tr>\n",
              "    <tr>\n",
              "      <th>1013683</th>\n",
              "      <td>USW00094728</td>\n",
              "      <td>18871231</td>\n",
              "      <td>SNOW</td>\n",
              "      <td>38</td>\n",
              "      <td>NaN</td>\n",
              "      <td>NaN</td>\n",
              "      <td>Z</td>\n",
              "      <td>NaN</td>\n",
              "    </tr>\n",
              "    <tr>\n",
              "      <th>1013684</th>\n",
              "      <td>UZM00038457</td>\n",
              "      <td>18871231</td>\n",
              "      <td>PRCP</td>\n",
              "      <td>0</td>\n",
              "      <td>NaN</td>\n",
              "      <td>NaN</td>\n",
              "      <td>r</td>\n",
              "      <td>NaN</td>\n",
              "    </tr>\n",
              "    <tr>\n",
              "      <th>1013685</th>\n",
              "      <td>UZM00038457</td>\n",
              "      <td>18871231</td>\n",
              "      <td>TAVG</td>\n",
              "      <td>100</td>\n",
              "      <td>NaN</td>\n",
              "      <td>NaN</td>\n",
              "      <td>r</td>\n",
              "      <td>NaN</td>\n",
              "    </tr>\n",
              "  </tbody>\n",
              "</table>\n",
              "<p>1013686 rows × 8 columns</p>\n",
              "</div>"
            ],
            "text/plain": [
              "                  ID      DATE ELEMENT  DATA VALUE M-FLAG Q-FLAG S-FLAG  \\\n",
              "0        AGE00135039  18870101    TMIN          50    NaN    NaN      E   \n",
              "1        AGE00135039  18870101    PRCP           0    NaN    NaN      E   \n",
              "2        AGE00147705  18870101    TMAX         120    NaN    NaN      E   \n",
              "3        AGE00147705  18870101    TMIN          36    NaN    NaN      E   \n",
              "4        AGE00147705  18870101    PRCP          72    NaN    NaN      E   \n",
              "...              ...       ...     ...         ...    ...    ...    ...   \n",
              "1013681  USW00094728  18871231    TMIN        -111    NaN    NaN      0   \n",
              "1013682  USW00094728  18871231    PRCP          48    NaN    NaN      0   \n",
              "1013683  USW00094728  18871231    SNOW          38    NaN    NaN      Z   \n",
              "1013684  UZM00038457  18871231    PRCP           0    NaN    NaN      r   \n",
              "1013685  UZM00038457  18871231    TAVG         100    NaN    NaN      r   \n",
              "\n",
              "         OBS-TIME  \n",
              "0             NaN  \n",
              "1             NaN  \n",
              "2             NaN  \n",
              "3             NaN  \n",
              "4             NaN  \n",
              "...           ...  \n",
              "1013681       NaN  \n",
              "1013682       NaN  \n",
              "1013683       NaN  \n",
              "1013684       NaN  \n",
              "1013685       NaN  \n",
              "\n",
              "[1013686 rows x 8 columns]"
            ]
          },
          "execution_count": 28,
          "metadata": {},
          "output_type": "execute_result"
        }
      ],
      "source": [
        "load_df(1887)"
      ]
    }
  ],
  "metadata": {
    "colab": {
      "provenance": []
    },
    "kernelspec": {
      "display_name": "Python 3",
      "name": "python3"
    },
    "language_info": {
      "codemirror_mode": {
        "name": "ipython",
        "version": 3
      },
      "file_extension": ".py",
      "mimetype": "text/x-python",
      "name": "python",
      "nbconvert_exporter": "python",
      "pygments_lexer": "ipython3",
      "version": "3.8.0"
    }
  },
  "nbformat": 4,
  "nbformat_minor": 0
}
