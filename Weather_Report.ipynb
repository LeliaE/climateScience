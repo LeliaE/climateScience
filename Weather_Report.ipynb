{
  "cells": [
    {
      "cell_type": "markdown",
      "metadata": {
        "id": "6-4vHgek1i5R"
      },
      "source": [
        "# Imports"
      ]
    },
    {
      "cell_type": "code",
      "execution_count": 1,
      "metadata": {
        "id": "wmlaQN1T1kjN"
      },
      "outputs": [],
      "source": [
        "import os\n",
        "import pandas as pd\n",
        "import boto3\n",
        "from botocore import UNSIGNED\n",
        "from botocore.config import Config"
      ]
    },
    {
      "cell_type": "markdown",
      "metadata": {},
      "source": [
        "# Constants"
      ]
    },
    {
      "cell_type": "code",
      "execution_count": 2,
      "metadata": {},
      "outputs": [],
      "source": [
        "# Change path depending on where data is located\n",
        "data_root = 'LOCAL_PATH_TO_DATA'\n",
        "column_names = ['ID', 'DATE', 'ELEMENT', 'DATA VALUE', 'M-FLAG', 'Q-FLAG', 'S-FLAG', 'OBS-TIME']"
      ]
    },
    {
      "cell_type": "markdown",
      "metadata": {
        "id": "rwTavRD81lgO"
      },
      "source": [
        "# Data Download"
      ]
    },
    {
      "cell_type": "markdown",
      "metadata": {},
      "source": [
        "The data can is located in an AWS bucket. This part of the notebook connects to the bucket, checks if the files are present in the local path, and downloads them if they are not."
      ]
    },
    {
      "cell_type": "markdown",
      "metadata": {},
      "source": [
        "### Setup Bucket connection"
      ]
    },
    {
      "cell_type": "code",
      "execution_count": 3,
      "metadata": {},
      "outputs": [],
      "source": [
        "s3_client = boto3.client('s3', config=Config(signature_version=UNSIGNED))\n",
        "s3_resource = boto3.resource(\"s3\", config=Config(signature_version=UNSIGNED))\n",
        "bucket = s3_resource.Bucket('noaa-ghcn-pds')"
      ]
    },
    {
      "cell_type": "markdown",
      "metadata": {},
      "source": [
        "### Download files"
      ]
    },
    {
      "cell_type": "markdown",
      "metadata": {},
      "source": [
        "There are two types of files in the bucket: one `.csv` per year between 1763 and 2022, and one `.csv` per station. The yearly files are an aggregated version of the ones per station, therefore we are only using the yearly files for our analysis. \n",
        "The `.csv` by station are disregarded.\n",
        "\n",
        "As they are sorted (yearly files first, files per station after), the iteration stops after the first element that has `by_station` in its key."
      ]
    },
    {
      "cell_type": "code",
      "execution_count": 6,
      "metadata": {},
      "outputs": [
        {
          "name": "stdout",
          "output_type": "stream",
          "text": [
            "Number of yearly files:  260\n"
          ]
        }
      ],
      "source": [
        "size = 0\n",
        "for obj in bucket.objects.all(): \n",
        "    if 'by_station' not in obj.key: \n",
        "        size += 1 \n",
        "    else:\n",
        "        break\n",
        "\n",
        "print(f'Number of yearly files: {size}')"
      ]
    },
    {
      "cell_type": "code",
      "execution_count": 26,
      "metadata": {
        "colab": {
          "base_uri": "https://localhost:8080/"
        },
        "id": "e2ACcmU2BR34",
        "outputId": "8d56de08-a52e-4ebb-f26a-59c729768ef7"
      },
      "outputs": [],
      "source": [
        "for obj in bucket.objects.all():\n",
        "    if 'by_station' not in obj.key:\n",
        "        _, filename = os.path.split(obj.key)\n",
        "        local_path = data_root + filename\n",
        "        if not os.path.isfile(local_path):\n",
        "            s3_client.download_file('noaa-ghcn-pds', obj.key, local_path)\n",
        "            print(f'{filename} downloaded')\n",
        "    else:\n",
        "        break"
      ]
    },
    {
      "cell_type": "markdown",
      "metadata": {},
      "source": [
        "# Data Analysis"
      ]
    },
    {
      "cell_type": "markdown",
      "metadata": {},
      "source": [
        "### Load file"
      ]
    },
    {
      "cell_type": "code",
      "execution_count": 3,
      "metadata": {},
      "outputs": [],
      "source": [
        "def load_df(year):\n",
        "    df = pd.read_csv(data_root + str(year) + '.csv.gz', header = 0, names = column_names)\n",
        "    return df"
      ]
    },
    {
      "cell_type": "code",
      "execution_count": 6,
      "metadata": {},
      "outputs": [],
      "source": [
        "df = load_df(1887)"
      ]
    }
  ],
  "metadata": {
    "colab": {
      "provenance": []
    },
    "kernelspec": {
      "display_name": "Python 3",
      "name": "python3"
    },
    "language_info": {
      "codemirror_mode": {
        "name": "ipython",
        "version": 3
      },
      "file_extension": ".py",
      "mimetype": "text/x-python",
      "name": "python",
      "nbconvert_exporter": "python",
      "pygments_lexer": "ipython3",
      "version": "3.8.0"
    }
  },
  "nbformat": 4,
  "nbformat_minor": 0
}
